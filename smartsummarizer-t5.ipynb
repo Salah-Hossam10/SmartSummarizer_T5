{
 "cells": [
  {
   "cell_type": "code",
   "execution_count": 1,
   "id": "381e2657",
   "metadata": {
    "_cell_guid": "b1076dfc-b9ad-4769-8c92-a6c4dae69d19",
    "_uuid": "8f2839f25d086af736a60e9eeb907d3b93b6e0e5",
    "execution": {
     "iopub.execute_input": "2025-03-14T12:45:33.027825Z",
     "iopub.status.busy": "2025-03-14T12:45:33.027540Z",
     "iopub.status.idle": "2025-03-14T12:45:33.972585Z",
     "shell.execute_reply": "2025-03-14T12:45:33.971697Z"
    },
    "papermill": {
     "duration": 0.956534,
     "end_time": "2025-03-14T12:45:33.974683",
     "exception": false,
     "start_time": "2025-03-14T12:45:33.018149",
     "status": "completed"
    },
    "tags": []
   },
   "outputs": [],
   "source": [
    "# This Python 3 environment comes with many helpful analytics libraries installed\n",
    "# It is defined by the kaggle/python Docker image: https://github.com/kaggle/docker-python\n",
    "# For example, here's several helpful packages to load\n",
    "\n",
    "import numpy as np # linear algebra\n",
    "import pandas as pd # data processing, CSV file I/O (e.g. pd.read_csv)\n",
    "\n",
    "# Input data files are available in the read-only \"../input/\" directory\n",
    "# For example, running this (by clicking run or pressing Shift+Enter) will list all files under the input directory\n",
    "\n",
    "import os\n",
    "for dirname, _, filenames in os.walk('/kaggle/input'):\n",
    "    for filename in filenames:\n",
    "        print(os.path.join(dirname, filename))\n",
    "\n",
    "# You can write up to 20GB to the current directory (/kaggle/working/) that gets preserved as output when you create a version using \"Save & Run All\" \n",
    "# You can also write temporary files to /kaggle/temp/, but they won't be saved outside of the current session"
   ]
  },
  {
   "cell_type": "markdown",
   "id": "975eb963",
   "metadata": {
    "papermill": {
     "duration": 0.007265,
     "end_time": "2025-03-14T12:45:33.991325",
     "exception": false,
     "start_time": "2025-03-14T12:45:33.984060",
     "status": "completed"
    },
    "tags": []
   },
   "source": [
    "# Importing From Google Drive"
   ]
  },
  {
   "cell_type": "code",
   "execution_count": 2,
   "id": "a666a783",
   "metadata": {
    "execution": {
     "iopub.execute_input": "2025-03-14T12:45:34.007137Z",
     "iopub.status.busy": "2025-03-14T12:45:34.006756Z",
     "iopub.status.idle": "2025-03-14T12:46:58.195767Z",
     "shell.execute_reply": "2025-03-14T12:46:58.194713Z"
    },
    "papermill": {
     "duration": 84.199219,
     "end_time": "2025-03-14T12:46:58.197816",
     "exception": false,
     "start_time": "2025-03-14T12:45:33.998597",
     "status": "completed"
    },
    "tags": []
   },
   "outputs": [
    {
     "name": "stdout",
     "output_type": "stream",
     "text": [
      "Retrieving notices: ...working... done\r\n",
      "Channels:\r\n",
      " - rapidsai\r\n",
      " - nvidia\r\n",
      " - nodefaults\r\n",
      " - conda-forge\r\n",
      " - defaults\r\n",
      " - pytorch\r\n",
      "Platform: linux-64\r\n",
      "Collecting package metadata (repodata.json): \\ \b\b| \b\b/ \b\b- \b\b\\ \b\b| \b\b/ \b\b- \b\b\\ \b\b| \b\b/ \b\b- \b\b\\ \b\b| \b\b/ \b\b- \b\b\\ \b\b| \b\b/ \b\b- \b\b\\ \b\b| \b\b/ \b\b- \b\b\\ \b\b| \b\b/ \b\b- \b\b\\ \b\b| \b\b/ \b\b- \b\b\\ \b\b| \b\b/ \b\b- \b\b\\ \b\b| \b\b/ \b\b- \b\b\\ \b\b| \b\b/ \b\b- \b\b\\ \b\b| \b\b/ \b\b- \b\b\\ \b\b| \b\b/ \b\b- \b\b\\ \b\b| \b\b/ \b\b- \b\b\\ \b\b| \b\b/ \b\b- \b\b\\ \b\bdone\r\n",
      "Solving environment: / \b\b- \b\b\\ \b\b| \b\b/ \b\b- \b\b\\ \b\b| \b\b/ \b\b- \b\b\\ \b\b| \b\b/ \b\b- \b\b\\ \b\b| \b\b/ \b\b- \b\b\\ \b\b| \b\bdone\r\n",
      "\r\n",
      "## Package Plan ##\r\n",
      "\r\n",
      "  environment location: /opt/conda\r\n",
      "\r\n",
      "  added / updated specs:\r\n",
      "    - gdown\r\n",
      "\r\n",
      "\r\n",
      "The following packages will be downloaded:\r\n",
      "\r\n",
      "    package                    |            build\r\n",
      "    ---------------------------|-----------------\r\n",
      "    ca-certificates-2025.1.31  |       hbcca054_0         154 KB  conda-forge\r\n",
      "    certifi-2025.1.31          |     pyhd8ed1ab_0         159 KB  conda-forge\r\n",
      "    conda-24.11.3              |  py310hff52083_0         906 KB  conda-forge\r\n",
      "    filelock-3.17.0            |     pyhd8ed1ab_0          17 KB  conda-forge\r\n",
      "    gdown-5.2.0                |     pyhd8ed1ab_1          21 KB  conda-forge\r\n",
      "    openssl-3.4.1              |       h7b32b05_0         2.8 MB  conda-forge\r\n",
      "    ------------------------------------------------------------\r\n",
      "                                           Total:         4.0 MB\r\n",
      "\r\n",
      "The following NEW packages will be INSTALLED:\r\n",
      "\r\n",
      "  filelock           conda-forge/noarch::filelock-3.17.0-pyhd8ed1ab_0 \r\n",
      "  gdown              conda-forge/noarch::gdown-5.2.0-pyhd8ed1ab_1 \r\n",
      "\r\n",
      "The following packages will be UPDATED:\r\n",
      "\r\n",
      "  ca-certificates                      2024.8.30-hbcca054_0 --> 2025.1.31-hbcca054_0 \r\n",
      "  certifi                            2024.8.30-pyhd8ed1ab_0 --> 2025.1.31-pyhd8ed1ab_0 \r\n",
      "  conda                              24.9.0-py310hff52083_0 --> 24.11.3-py310hff52083_0 \r\n",
      "  openssl                                  3.3.2-hb9d3cd8_0 --> 3.4.1-h7b32b05_0 \r\n",
      "\r\n",
      "\r\n",
      "\r\n",
      "Downloading and Extracting Packages:\r\n",
      "openssl-3.4.1        | 2.8 MB    |                                       |   0% \r\n",
      "conda-24.11.3        | 906 KB    |                                       |   0% \u001b[A\r\n",
      "\r\n",
      "certifi-2025.1.31    | 159 KB    |                                       |   0% \u001b[A\u001b[A\r\n",
      "\r\n",
      "\r\n",
      "ca-certificates-2025 | 154 KB    |                                       |   0% \u001b[A\u001b[A\u001b[A\r\n",
      "\r\n",
      "\r\n",
      "\r\n",
      "gdown-5.2.0          | 21 KB     |                                       |   0% \u001b[A\u001b[A\u001b[A\u001b[A\r\n",
      "\r\n",
      "\r\n",
      "\r\n",
      "\r\n",
      "filelock-3.17.0      | 17 KB     |                                       |   0% \u001b[A\u001b[A\u001b[A\u001b[A\u001b[A\r\n",
      "conda-24.11.3        | 906 KB    | ###9                                  |  11% \u001b[A\r\n",
      "\r\n",
      "openssl-3.4.1        | 2.8 MB    | #8                                    |   5% \r\n",
      "\r\n",
      "\r\n",
      "ca-certificates-2025 | 154 KB    | ###############3                      |  41% \u001b[A\u001b[A\u001b[A\r\n",
      "\r\n",
      "\r\n",
      "\r\n",
      "gdown-5.2.0          | 21 KB     | ##################################### | 100% \u001b[A\u001b[A\u001b[A\u001b[A\r\n",
      "\r\n",
      "\r\n",
      "\r\n",
      "gdown-5.2.0          | 21 KB     | ##################################### | 100% \u001b[A\u001b[A\u001b[A\u001b[A\r\n",
      "\r\n",
      "\r\n",
      "\r\n",
      "\r\n",
      "filelock-3.17.0      | 17 KB     | ##################################5   |  93% \u001b[A\u001b[A\u001b[A\u001b[A\u001b[A\r\n",
      "\r\n",
      "\r\n",
      "openssl-3.4.1        | 2.8 MB    | ##################################    |  92% \r\n",
      "\r\n",
      "\r\n",
      "\r\n",
      "\r\n",
      "filelock-3.17.0      | 17 KB     | ##################################### | 100% \u001b[A\u001b[A\u001b[A\u001b[A\u001b[A\r\n",
      "\r\n",
      "certifi-2025.1.31    | 159 KB    | ##################################### | 100% \u001b[A\u001b[A\r\n",
      "\r\n",
      "openssl-3.4.1        | 2.8 MB    | ##################################### | 100% \r\n",
      "conda-24.11.3        | 906 KB    | ##################################### | 100% \u001b[A\r\n",
      "\r\n",
      "                                                                                \u001b[A\r\n",
      "\r\n",
      "                                                                                \u001b[A\u001b[A\r\n",
      "\r\n",
      "\r\n",
      "                                                                                \u001b[A\u001b[A\u001b[A\r\n",
      "\r\n",
      "\r\n",
      "\r\n",
      "                                                                                \u001b[A\u001b[A\u001b[A\u001b[A\r\n",
      "\r\n",
      "\r\n",
      "\r\n",
      "\r\n",
      "\r\n",
      "Preparing transaction: - \b\bdone\r\n",
      "Verifying transaction: | \b\b/ \b\b- \b\bdone\r\n",
      "Executing transaction: | \b\b/ \b\b- \b\b\\ \b\b| \b\b/ \b\b- \b\b\\ \b\b| \b\b/ \b\b- \b\b\\ \b\b| \b\b/ \b\b- \b\b\\ \b\b| \b\b/ \b\b- \b\b\\ \b\b| \b\b/ \b\b- \b\b\\ \b\b| \b\b/ \b\b- \b\b\\ \b\b| \b\b/ \b\b- \b\b\\ \b\b| \b\b/ \b\b- \b\b\\ \b\b| \b\b/ \b\b- \b\b\\ \b\b| \b\b/ \b\b- \b\b\\ \b\b| \b\b/ \b\b- \b\b\\ \b\bdone\r\n"
     ]
    }
   ],
   "source": [
    "! conda install -y gdown"
   ]
  },
  {
   "cell_type": "code",
   "execution_count": 3,
   "id": "86a34bc6",
   "metadata": {
    "execution": {
     "iopub.execute_input": "2025-03-14T12:46:58.227038Z",
     "iopub.status.busy": "2025-03-14T12:46:58.226159Z",
     "iopub.status.idle": "2025-03-14T12:47:09.231598Z",
     "shell.execute_reply": "2025-03-14T12:47:09.230653Z"
    },
    "papermill": {
     "duration": 11.022067,
     "end_time": "2025-03-14T12:47:09.233788",
     "exception": false,
     "start_time": "2025-03-14T12:46:58.211721",
     "status": "completed"
    },
    "tags": []
   },
   "outputs": [
    {
     "name": "stdout",
     "output_type": "stream",
     "text": [
      "/opt/conda/lib/python3.10/site-packages/gdown/__main__.py:140: FutureWarning: Option `--id` was deprecated in version 4.3.1 and will be removed in 5.0. You don't need to pass it anymore to use a file ID.\r\n",
      "  warnings.warn(\r\n",
      "Downloading...\r\n",
      "From (original): https://drive.google.com/uc?id=1vJsjWEUmFJM6sOTZmVh_Zq07N9q1MY8G\r\n",
      "From (redirected): https://drive.google.com/uc?id=1vJsjWEUmFJM6sOTZmVh_Zq07N9q1MY8G&confirm=t&uuid=b5958ec5-2066-4cf3-9d53-fa53b10b15e1\r\n",
      "To: /kaggle/working/Summarization.zip\r\n",
      "100%|████████████████████████████████████████| 528M/528M [00:05<00:00, 92.2MB/s]\r\n"
     ]
    }
   ],
   "source": [
    "!gdown --id 1vJsjWEUmFJM6sOTZmVh_Zq07N9q1MY8G"
   ]
  },
  {
   "cell_type": "code",
   "execution_count": 4,
   "id": "7f4af400",
   "metadata": {
    "execution": {
     "iopub.execute_input": "2025-03-14T12:47:09.268059Z",
     "iopub.status.busy": "2025-03-14T12:47:09.267667Z",
     "iopub.status.idle": "2025-03-14T12:47:18.268497Z",
     "shell.execute_reply": "2025-03-14T12:47:18.267786Z"
    },
    "papermill": {
     "duration": 9.019781,
     "end_time": "2025-03-14T12:47:18.270436",
     "exception": false,
     "start_time": "2025-03-14T12:47:09.250655",
     "status": "completed"
    },
    "tags": []
   },
   "outputs": [],
   "source": [
    "import zipfile\n",
    "z= zipfile.ZipFile('Summarization.zip')\n",
    "z.extractall()"
   ]
  },
  {
   "cell_type": "markdown",
   "id": "777af934",
   "metadata": {
    "papermill": {
     "duration": 0.014504,
     "end_time": "2025-03-14T12:47:18.300320",
     "exception": false,
     "start_time": "2025-03-14T12:47:18.285816",
     "status": "completed"
    },
    "tags": []
   },
   "source": [
    "# Install rouge_score & evaluate"
   ]
  },
  {
   "cell_type": "code",
   "execution_count": 5,
   "id": "8628ad1a",
   "metadata": {
    "execution": {
     "iopub.execute_input": "2025-03-14T12:47:18.331046Z",
     "iopub.status.busy": "2025-03-14T12:47:18.330744Z",
     "iopub.status.idle": "2025-03-14T12:47:32.046382Z",
     "shell.execute_reply": "2025-03-14T12:47:32.045172Z"
    },
    "papermill": {
     "duration": 13.733222,
     "end_time": "2025-03-14T12:47:32.048515",
     "exception": false,
     "start_time": "2025-03-14T12:47:18.315293",
     "status": "completed"
    },
    "tags": []
   },
   "outputs": [
    {
     "name": "stdout",
     "output_type": "stream",
     "text": [
      "Collecting rouge_score\r\n",
      "  Downloading rouge_score-0.1.2.tar.gz (17 kB)\r\n",
      "  Preparing metadata (setup.py) ... \u001b[?25l-\b \bdone\r\n",
      "\u001b[?25hRequirement already satisfied: absl-py in /opt/conda/lib/python3.10/site-packages (from rouge_score) (1.4.0)\r\n",
      "Requirement already satisfied: nltk in /opt/conda/lib/python3.10/site-packages (from rouge_score) (3.2.4)\r\n",
      "Requirement already satisfied: numpy in /opt/conda/lib/python3.10/site-packages (from rouge_score) (1.26.4)\r\n",
      "Requirement already satisfied: six>=1.14.0 in /opt/conda/lib/python3.10/site-packages (from rouge_score) (1.16.0)\r\n",
      "Building wheels for collected packages: rouge_score\r\n",
      "  Building wheel for rouge_score (setup.py) ... \u001b[?25l-\b \b\\\b \bdone\r\n",
      "\u001b[?25h  Created wheel for rouge_score: filename=rouge_score-0.1.2-py3-none-any.whl size=24934 sha256=365b410abec3c668bb618206a70dfd9852bd3c5c6f1e16454ebd1e428fa15d18\r\n",
      "  Stored in directory: /root/.cache/pip/wheels/5f/dd/89/461065a73be61a532ff8599a28e9beef17985c9e9c31e541b4\r\n",
      "Successfully built rouge_score\r\n",
      "Installing collected packages: rouge_score\r\n",
      "Successfully installed rouge_score-0.1.2\r\n"
     ]
    }
   ],
   "source": [
    "!pip install rouge_score"
   ]
  },
  {
   "cell_type": "code",
   "execution_count": 6,
   "id": "58a6e048",
   "metadata": {
    "execution": {
     "iopub.execute_input": "2025-03-14T12:47:32.082586Z",
     "iopub.status.busy": "2025-03-14T12:47:32.081545Z",
     "iopub.status.idle": "2025-03-14T12:47:40.778694Z",
     "shell.execute_reply": "2025-03-14T12:47:40.777583Z"
    },
    "papermill": {
     "duration": 8.716556,
     "end_time": "2025-03-14T12:47:40.780832",
     "exception": false,
     "start_time": "2025-03-14T12:47:32.064276",
     "status": "completed"
    },
    "tags": []
   },
   "outputs": [
    {
     "name": "stdout",
     "output_type": "stream",
     "text": [
      "Collecting evaluate\r\n",
      "  Downloading evaluate-0.4.3-py3-none-any.whl.metadata (9.2 kB)\r\n",
      "Requirement already satisfied: datasets>=2.0.0 in /opt/conda/lib/python3.10/site-packages (from evaluate) (3.0.1)\r\n",
      "Requirement already satisfied: numpy>=1.17 in /opt/conda/lib/python3.10/site-packages (from evaluate) (1.26.4)\r\n",
      "Requirement already satisfied: dill in /opt/conda/lib/python3.10/site-packages (from evaluate) (0.3.8)\r\n",
      "Requirement already satisfied: pandas in /opt/conda/lib/python3.10/site-packages (from evaluate) (2.2.2)\r\n",
      "Requirement already satisfied: requests>=2.19.0 in /opt/conda/lib/python3.10/site-packages (from evaluate) (2.32.3)\r\n",
      "Requirement already satisfied: tqdm>=4.62.1 in /opt/conda/lib/python3.10/site-packages (from evaluate) (4.66.4)\r\n",
      "Requirement already satisfied: xxhash in /opt/conda/lib/python3.10/site-packages (from evaluate) (3.4.1)\r\n",
      "Requirement already satisfied: multiprocess in /opt/conda/lib/python3.10/site-packages (from evaluate) (0.70.16)\r\n",
      "Requirement already satisfied: fsspec>=2021.05.0 in /opt/conda/lib/python3.10/site-packages (from fsspec[http]>=2021.05.0->evaluate) (2024.6.1)\r\n",
      "Requirement already satisfied: huggingface-hub>=0.7.0 in /opt/conda/lib/python3.10/site-packages (from evaluate) (0.25.1)\r\n",
      "Requirement already satisfied: packaging in /opt/conda/lib/python3.10/site-packages (from evaluate) (21.3)\r\n",
      "Requirement already satisfied: filelock in /opt/conda/lib/python3.10/site-packages (from datasets>=2.0.0->evaluate) (3.15.1)\r\n",
      "Requirement already satisfied: pyarrow>=15.0.0 in /opt/conda/lib/python3.10/site-packages (from datasets>=2.0.0->evaluate) (16.1.0)\r\n",
      "Requirement already satisfied: aiohttp in /opt/conda/lib/python3.10/site-packages (from datasets>=2.0.0->evaluate) (3.9.5)\r\n",
      "Requirement already satisfied: pyyaml>=5.1 in /opt/conda/lib/python3.10/site-packages (from datasets>=2.0.0->evaluate) (6.0.2)\r\n",
      "Requirement already satisfied: typing-extensions>=3.7.4.3 in /opt/conda/lib/python3.10/site-packages (from huggingface-hub>=0.7.0->evaluate) (4.12.2)\r\n",
      "Requirement already satisfied: pyparsing!=3.0.5,>=2.0.2 in /opt/conda/lib/python3.10/site-packages (from packaging->evaluate) (3.1.2)\r\n",
      "Requirement already satisfied: charset-normalizer<4,>=2 in /opt/conda/lib/python3.10/site-packages (from requests>=2.19.0->evaluate) (3.3.2)\r\n",
      "Requirement already satisfied: idna<4,>=2.5 in /opt/conda/lib/python3.10/site-packages (from requests>=2.19.0->evaluate) (3.7)\r\n",
      "Requirement already satisfied: urllib3<3,>=1.21.1 in /opt/conda/lib/python3.10/site-packages (from requests>=2.19.0->evaluate) (1.26.18)\r\n",
      "Requirement already satisfied: certifi>=2017.4.17 in /opt/conda/lib/python3.10/site-packages (from requests>=2.19.0->evaluate) (2025.1.31)\r\n",
      "Requirement already satisfied: python-dateutil>=2.8.2 in /opt/conda/lib/python3.10/site-packages (from pandas->evaluate) (2.9.0.post0)\r\n",
      "Requirement already satisfied: pytz>=2020.1 in /opt/conda/lib/python3.10/site-packages (from pandas->evaluate) (2024.1)\r\n",
      "Requirement already satisfied: tzdata>=2022.7 in /opt/conda/lib/python3.10/site-packages (from pandas->evaluate) (2024.1)\r\n",
      "Requirement already satisfied: aiosignal>=1.1.2 in /opt/conda/lib/python3.10/site-packages (from aiohttp->datasets>=2.0.0->evaluate) (1.3.1)\r\n",
      "Requirement already satisfied: attrs>=17.3.0 in /opt/conda/lib/python3.10/site-packages (from aiohttp->datasets>=2.0.0->evaluate) (23.2.0)\r\n",
      "Requirement already satisfied: frozenlist>=1.1.1 in /opt/conda/lib/python3.10/site-packages (from aiohttp->datasets>=2.0.0->evaluate) (1.4.1)\r\n",
      "Requirement already satisfied: multidict<7.0,>=4.5 in /opt/conda/lib/python3.10/site-packages (from aiohttp->datasets>=2.0.0->evaluate) (6.0.5)\r\n",
      "Requirement already satisfied: yarl<2.0,>=1.0 in /opt/conda/lib/python3.10/site-packages (from aiohttp->datasets>=2.0.0->evaluate) (1.9.4)\r\n",
      "Requirement already satisfied: async-timeout<5.0,>=4.0 in /opt/conda/lib/python3.10/site-packages (from aiohttp->datasets>=2.0.0->evaluate) (4.0.3)\r\n",
      "Requirement already satisfied: six>=1.5 in /opt/conda/lib/python3.10/site-packages (from python-dateutil>=2.8.2->pandas->evaluate) (1.16.0)\r\n",
      "Downloading evaluate-0.4.3-py3-none-any.whl (84 kB)\r\n",
      "\u001b[2K   \u001b[90m━━━━━━━━━━━━━━━━━━━━━━━━━━━━━━━━━━━━━━━━\u001b[0m \u001b[32m84.0/84.0 kB\u001b[0m \u001b[31m3.1 MB/s\u001b[0m eta \u001b[36m0:00:00\u001b[0m\r\n",
      "\u001b[?25hInstalling collected packages: evaluate\r\n",
      "Successfully installed evaluate-0.4.3\r\n"
     ]
    }
   ],
   "source": [
    "!pip install evaluate"
   ]
  },
  {
   "cell_type": "markdown",
   "id": "b89b13ff",
   "metadata": {
    "papermill": {
     "duration": 0.015847,
     "end_time": "2025-03-14T12:47:40.813490",
     "exception": false,
     "start_time": "2025-03-14T12:47:40.797643",
     "status": "completed"
    },
    "tags": []
   },
   "source": [
    "# Import Libarires"
   ]
  },
  {
   "cell_type": "code",
   "execution_count": 7,
   "id": "0ab7e933",
   "metadata": {
    "execution": {
     "iopub.execute_input": "2025-03-14T12:47:40.847718Z",
     "iopub.status.busy": "2025-03-14T12:47:40.846870Z",
     "iopub.status.idle": "2025-03-14T12:47:46.228654Z",
     "shell.execute_reply": "2025-03-14T12:47:46.227964Z"
    },
    "papermill": {
     "duration": 5.401165,
     "end_time": "2025-03-14T12:47:46.230681",
     "exception": false,
     "start_time": "2025-03-14T12:47:40.829516",
     "status": "completed"
    },
    "tags": []
   },
   "outputs": [],
   "source": [
    "import pandas as pd\n",
    "import numpy as np\n",
    "import torch\n",
    "from transformers import T5Tokenizer, T5ForConditionalGeneration, get_cosine_schedule_with_warmup\n",
    "from torch.utils.data import Dataset, DataLoader\n",
    "from tqdm import tqdm\n",
    "import re\n",
    "from torch.optim import AdamW\n",
    "import gc\n",
    "import os"
   ]
  },
  {
   "cell_type": "markdown",
   "id": "62f25548",
   "metadata": {
    "papermill": {
     "duration": 0.018448,
     "end_time": "2025-03-14T12:47:46.268303",
     "exception": false,
     "start_time": "2025-03-14T12:47:46.249855",
     "status": "completed"
    },
    "tags": []
   },
   "source": [
    "# Training parameters optimized for T5-base"
   ]
  },
  {
   "cell_type": "code",
   "execution_count": 8,
   "id": "ac1827c7",
   "metadata": {
    "execution": {
     "iopub.execute_input": "2025-03-14T12:47:46.302667Z",
     "iopub.status.busy": "2025-03-14T12:47:46.302213Z",
     "iopub.status.idle": "2025-03-14T12:47:46.308021Z",
     "shell.execute_reply": "2025-03-14T12:47:46.307223Z"
    },
    "papermill": {
     "duration": 0.024611,
     "end_time": "2025-03-14T12:47:46.309512",
     "exception": false,
     "start_time": "2025-03-14T12:47:46.284901",
     "status": "completed"
    },
    "tags": []
   },
   "outputs": [],
   "source": [
    "# Training parameters optimized for T5-base\n",
    "NUM_EPOCHS = 3\n",
    "BATCH_SIZE = 2\n",
    "ACCUMULATION_STEPS = 16\n",
    "LEARNING_RATE = 2e-5\n",
    "MAX_INPUT_LENGTH = 512\n",
    "MAX_TARGET_LENGTH = 128\n",
    "MODEL_NAME = 't5-base'\n",
    "TRAIN_SAMPLE_SIZE = 50000\n",
    "WARMUP_RATIO = 0.1\n",
    "WEIGHT_DECAY = 0.01\n",
    "GRADIENT_CLIP = 1.0\n",
    "EPS = 1e-8"
   ]
  },
  {
   "cell_type": "markdown",
   "id": "5a044476",
   "metadata": {
    "papermill": {
     "duration": 0.015435,
     "end_time": "2025-03-14T12:47:46.340463",
     "exception": false,
     "start_time": "2025-03-14T12:47:46.325028",
     "status": "completed"
    },
    "tags": []
   },
   "source": [
    "# Set up device and memory management\n"
   ]
  },
  {
   "cell_type": "code",
   "execution_count": 9,
   "id": "d8c4dffc",
   "metadata": {
    "execution": {
     "iopub.execute_input": "2025-03-14T12:47:46.372823Z",
     "iopub.status.busy": "2025-03-14T12:47:46.372559Z",
     "iopub.status.idle": "2025-03-14T12:47:46.430755Z",
     "shell.execute_reply": "2025-03-14T12:47:46.429847Z"
    },
    "papermill": {
     "duration": 0.076368,
     "end_time": "2025-03-14T12:47:46.432424",
     "exception": false,
     "start_time": "2025-03-14T12:47:46.356056",
     "status": "completed"
    },
    "tags": []
   },
   "outputs": [],
   "source": [
    "# Set up device and memory management\n",
    "torch.cuda.empty_cache()\n",
    "device = torch.device(\"cuda\" if torch.cuda.is_available() else \"cpu\")\n",
    "torch.backends.cudnn.benchmark = True"
   ]
  },
  {
   "cell_type": "markdown",
   "id": "27c8a646",
   "metadata": {
    "papermill": {
     "duration": 0.015882,
     "end_time": "2025-03-14T12:47:46.464645",
     "exception": false,
     "start_time": "2025-03-14T12:47:46.448763",
     "status": "completed"
    },
    "tags": []
   },
   "source": [
    "# Initialize model and tokenizer\n"
   ]
  },
  {
   "cell_type": "code",
   "execution_count": 10,
   "id": "4ff07ae9",
   "metadata": {
    "execution": {
     "iopub.execute_input": "2025-03-14T12:47:46.498218Z",
     "iopub.status.busy": "2025-03-14T12:47:46.497940Z",
     "iopub.status.idle": "2025-03-14T12:47:52.720675Z",
     "shell.execute_reply": "2025-03-14T12:47:52.719919Z"
    },
    "papermill": {
     "duration": 6.24488,
     "end_time": "2025-03-14T12:47:52.725414",
     "exception": false,
     "start_time": "2025-03-14T12:47:46.480534",
     "status": "completed"
    },
    "tags": []
   },
   "outputs": [
    {
     "name": "stdout",
     "output_type": "stream",
     "text": [
      "Initializing t5-base model and tokenizer...\n"
     ]
    },
    {
     "data": {
      "application/vnd.jupyter.widget-view+json": {
       "model_id": "ffd88ad9a6e54209aa86d34ebe7ee1e2",
       "version_major": 2,
       "version_minor": 0
      },
      "text/plain": [
       "spiece.model:   0%|          | 0.00/792k [00:00<?, ?B/s]"
      ]
     },
     "metadata": {},
     "output_type": "display_data"
    },
    {
     "data": {
      "application/vnd.jupyter.widget-view+json": {
       "model_id": "bb063d4b006840e5934f28a39a7bdfc3",
       "version_major": 2,
       "version_minor": 0
      },
      "text/plain": [
       "tokenizer.json:   0%|          | 0.00/1.39M [00:00<?, ?B/s]"
      ]
     },
     "metadata": {},
     "output_type": "display_data"
    },
    {
     "data": {
      "application/vnd.jupyter.widget-view+json": {
       "model_id": "63bc59abe1c8421ebe15129a66d9af4e",
       "version_major": 2,
       "version_minor": 0
      },
      "text/plain": [
       "config.json:   0%|          | 0.00/1.21k [00:00<?, ?B/s]"
      ]
     },
     "metadata": {},
     "output_type": "display_data"
    },
    {
     "name": "stderr",
     "output_type": "stream",
     "text": [
      "You are using the default legacy behaviour of the <class 'transformers.models.t5.tokenization_t5.T5Tokenizer'>. This is expected, and simply means that the `legacy` (previous) behavior will be used so nothing changes for you. If you want to use the new behaviour, set `legacy=False`. This should only be set if you understand what it means, and thoroughly read the reason why this was added as explained in https://github.com/huggingface/transformers/pull/24565\n",
      "/opt/conda/lib/python3.10/site-packages/transformers/tokenization_utils_base.py:1617: FutureWarning: `clean_up_tokenization_spaces` was not set. It will be set to `True` by default. This behavior will be deprecated in transformers v4.45, and will be then set to `False` by default. For more details check this issue: https://github.com/huggingface/transformers/issues/31884\n",
      "  warnings.warn(\n"
     ]
    },
    {
     "data": {
      "application/vnd.jupyter.widget-view+json": {
       "model_id": "0a07e986d2c246308d63c25853438c65",
       "version_major": 2,
       "version_minor": 0
      },
      "text/plain": [
       "model.safetensors:   0%|          | 0.00/892M [00:00<?, ?B/s]"
      ]
     },
     "metadata": {},
     "output_type": "display_data"
    },
    {
     "data": {
      "application/vnd.jupyter.widget-view+json": {
       "model_id": "18e9dfc3086847ee80db527902e743de",
       "version_major": 2,
       "version_minor": 0
      },
      "text/plain": [
       "generation_config.json:   0%|          | 0.00/147 [00:00<?, ?B/s]"
      ]
     },
     "metadata": {},
     "output_type": "display_data"
    }
   ],
   "source": [
    "# Initialize model and tokenizer\n",
    "print(f\"Initializing {MODEL_NAME} model and tokenizer...\")\n",
    "tokenizer = T5Tokenizer.from_pretrained(MODEL_NAME)\n",
    "model = T5ForConditionalGeneration.from_pretrained(\n",
    "    MODEL_NAME,\n",
    "    low_cpu_mem_usage=True\n",
    ")"
   ]
  },
  {
   "cell_type": "markdown",
   "id": "7696f961",
   "metadata": {
    "papermill": {
     "duration": 0.016755,
     "end_time": "2025-03-14T12:47:52.760045",
     "exception": false,
     "start_time": "2025-03-14T12:47:52.743290",
     "status": "completed"
    },
    "tags": []
   },
   "source": [
    "# Enable memory optimization features\n"
   ]
  },
  {
   "cell_type": "code",
   "execution_count": 11,
   "id": "81ff4774",
   "metadata": {
    "execution": {
     "iopub.execute_input": "2025-03-14T12:47:52.794043Z",
     "iopub.status.busy": "2025-03-14T12:47:52.793725Z",
     "iopub.status.idle": "2025-03-14T12:47:53.311086Z",
     "shell.execute_reply": "2025-03-14T12:47:53.310324Z"
    },
    "papermill": {
     "duration": 0.536527,
     "end_time": "2025-03-14T12:47:53.313044",
     "exception": false,
     "start_time": "2025-03-14T12:47:52.776517",
     "status": "completed"
    },
    "tags": []
   },
   "outputs": [],
   "source": [
    "# Enable memory optimization features\n",
    "model.gradient_checkpointing_enable()\n",
    "model = model.to(device)"
   ]
  },
  {
   "cell_type": "markdown",
   "id": "a84e269b",
   "metadata": {
    "papermill": {
     "duration": 0.016052,
     "end_time": "2025-03-14T12:47:53.346236",
     "exception": false,
     "start_time": "2025-03-14T12:47:53.330184",
     "status": "completed"
    },
    "tags": []
   },
   "source": [
    "# Load and preprocess datasets\n"
   ]
  },
  {
   "cell_type": "code",
   "execution_count": 12,
   "id": "0ed7c12a",
   "metadata": {
    "execution": {
     "iopub.execute_input": "2025-03-14T12:47:53.380071Z",
     "iopub.status.busy": "2025-03-14T12:47:53.379701Z",
     "iopub.status.idle": "2025-03-14T12:48:09.239351Z",
     "shell.execute_reply": "2025-03-14T12:48:09.238307Z"
    },
    "papermill": {
     "duration": 15.879229,
     "end_time": "2025-03-14T12:48:09.241680",
     "exception": false,
     "start_time": "2025-03-14T12:47:53.362451",
     "status": "completed"
    },
    "tags": []
   },
   "outputs": [
    {
     "name": "stdout",
     "output_type": "stream",
     "text": [
      "Loading datasets...\n"
     ]
    }
   ],
   "source": [
    "# Load and preprocess datasets\n",
    "print(\"Loading datasets...\")\n",
    "train_df = pd.read_csv('/kaggle/working/cnn_dailymail/train.csv')\n",
    "val_df = pd.read_csv('/kaggle/working/cnn_dailymail/validation.csv')\n",
    "test_df = pd.read_csv('/kaggle/working/cnn_dailymail/test.csv')"
   ]
  },
  {
   "cell_type": "markdown",
   "id": "50d9ba0c",
   "metadata": {
    "papermill": {
     "duration": 0.018719,
     "end_time": "2025-03-14T12:48:09.279357",
     "exception": false,
     "start_time": "2025-03-14T12:48:09.260638",
     "status": "completed"
    },
    "tags": []
   },
   "source": [
    "# Sample data"
   ]
  },
  {
   "cell_type": "code",
   "execution_count": 13,
   "id": "5936e373",
   "metadata": {
    "execution": {
     "iopub.execute_input": "2025-03-14T12:48:09.314864Z",
     "iopub.status.busy": "2025-03-14T12:48:09.314551Z",
     "iopub.status.idle": "2025-03-14T12:48:09.651134Z",
     "shell.execute_reply": "2025-03-14T12:48:09.650084Z"
    },
    "papermill": {
     "duration": 0.356594,
     "end_time": "2025-03-14T12:48:09.652862",
     "exception": false,
     "start_time": "2025-03-14T12:48:09.296268",
     "status": "completed"
    },
    "tags": []
   },
   "outputs": [
    {
     "name": "stdout",
     "output_type": "stream",
     "text": [
      "Training samples: 50000\n",
      "Validation samples: 5000\n",
      "Test samples: 2000\n"
     ]
    }
   ],
   "source": [
    "# Sample data\n",
    "train_df = train_df.sample(n=min(TRAIN_SAMPLE_SIZE, len(train_df)), random_state=42)\n",
    "val_df = val_df.sample(n=min(5000, len(val_df)), random_state=42)\n",
    "test_df = test_df.sample(n=min(2000, len(test_df)), random_state=42)\n",
    "\n",
    "print(f\"Training samples: {len(train_df)}\")\n",
    "print(f\"Validation samples: {len(val_df)}\")\n",
    "print(f\"Test samples: {len(test_df)}\")"
   ]
  },
  {
   "cell_type": "markdown",
   "id": "7ea9d009",
   "metadata": {
    "papermill": {
     "duration": 0.016244,
     "end_time": "2025-03-14T12:48:09.686385",
     "exception": false,
     "start_time": "2025-03-14T12:48:09.670141",
     "status": "completed"
    },
    "tags": []
   },
   "source": [
    "# Clean text data with vectorized operations\n"
   ]
  },
  {
   "cell_type": "code",
   "execution_count": 14,
   "id": "f5adc708",
   "metadata": {
    "execution": {
     "iopub.execute_input": "2025-03-14T12:48:09.720282Z",
     "iopub.status.busy": "2025-03-14T12:48:09.719997Z",
     "iopub.status.idle": "2025-03-14T12:48:27.467299Z",
     "shell.execute_reply": "2025-03-14T12:48:27.466597Z"
    },
    "papermill": {
     "duration": 17.766415,
     "end_time": "2025-03-14T12:48:27.469300",
     "exception": false,
     "start_time": "2025-03-14T12:48:09.702885",
     "status": "completed"
    },
    "tags": []
   },
   "outputs": [
    {
     "name": "stdout",
     "output_type": "stream",
     "text": [
      "Cleaning text data...\n"
     ]
    }
   ],
   "source": [
    "# Clean text data with vectorized operations\n",
    "print(\"Cleaning text data...\")\n",
    "for df in [train_df, val_df, test_df]:\n",
    "    df['article'] = df['article'].astype(str).str.replace(r'\\s+', ' ', regex=True)\n",
    "    df['article'] = df['article'].str.replace(r'[^\\w\\s.,!?-]', '', regex=True)\n",
    "    df['article'] = df['article'].str.strip().str[:MAX_INPUT_LENGTH * 4]\n",
    "    \n",
    "    df['highlights'] = df['highlights'].astype(str).str.replace(r'\\s+', ' ', regex=True)\n",
    "    df['highlights'] = df['highlights'].str.replace(r'[^\\w\\s.,!?-]', '', regex=True)\n",
    "    df['highlights'] = df['highlights'].str.strip().str[:MAX_TARGET_LENGTH * 4]"
   ]
  },
  {
   "cell_type": "code",
   "execution_count": 15,
   "id": "ac4dfc1c",
   "metadata": {
    "execution": {
     "iopub.execute_input": "2025-03-14T12:48:27.540497Z",
     "iopub.status.busy": "2025-03-14T12:48:27.540152Z",
     "iopub.status.idle": "2025-03-14T12:48:27.544944Z",
     "shell.execute_reply": "2025-03-14T12:48:27.544031Z"
    },
    "papermill": {
     "duration": 0.060276,
     "end_time": "2025-03-14T12:48:27.546563",
     "exception": false,
     "start_time": "2025-03-14T12:48:27.486287",
     "status": "completed"
    },
    "tags": []
   },
   "outputs": [
    {
     "name": "stdout",
     "output_type": "stream",
     "text": [
      "Creating features...\n"
     ]
    }
   ],
   "source": [
    "print(\"Creating features...\")\n",
    "all_input_ids = []\n",
    "all_attention_mask = []\n",
    "all_labels = []"
   ]
  },
  {
   "cell_type": "markdown",
   "id": "8a497637",
   "metadata": {
    "papermill": {
     "duration": 0.016285,
     "end_time": "2025-03-14T12:48:27.579741",
     "exception": false,
     "start_time": "2025-03-14T12:48:27.563456",
     "status": "completed"
    },
    "tags": []
   },
   "source": [
    "# Process data in batches\n"
   ]
  },
  {
   "cell_type": "code",
   "execution_count": 16,
   "id": "80804e54",
   "metadata": {
    "execution": {
     "iopub.execute_input": "2025-03-14T12:48:27.614162Z",
     "iopub.status.busy": "2025-03-14T12:48:27.613841Z",
     "iopub.status.idle": "2025-03-14T12:50:32.873992Z",
     "shell.execute_reply": "2025-03-14T12:50:32.873255Z"
    },
    "papermill": {
     "duration": 125.280127,
     "end_time": "2025-03-14T12:50:32.876407",
     "exception": false,
     "start_time": "2025-03-14T12:48:27.596280",
     "status": "completed"
    },
    "tags": []
   },
   "outputs": [
    {
     "name": "stderr",
     "output_type": "stream",
     "text": [
      "/opt/conda/lib/python3.10/site-packages/transformers/tokenization_utils_base.py:4117: UserWarning: `as_target_tokenizer` is deprecated and will be removed in v5 of Transformers. You can tokenize your labels by using the argument `text_target` of the regular `__call__` method (either in the same call as your input texts if you use the same keyword arguments, or in a separate call.\n",
      "  warnings.warn(\n"
     ]
    }
   ],
   "source": [
    "# Process data in batches\n",
    "batch_size = 1000\n",
    "for i in range(0, len(train_df), batch_size):\n",
    "    batch_texts = train_df['article'][i:i + batch_size].tolist()\n",
    "    batch_summaries = train_df['highlights'][i:i + batch_size].tolist()\n",
    "    \n",
    "    inputs = tokenizer(\n",
    "        [\"summarize: \" + text for text in batch_texts],\n",
    "        max_length=MAX_INPUT_LENGTH,\n",
    "        padding='max_length',\n",
    "        truncation=True,\n",
    "        return_tensors='pt'\n",
    "    )\n",
    "    \n",
    "    with tokenizer.as_target_tokenizer():\n",
    "        labels = tokenizer(\n",
    "            batch_summaries,\n",
    "            max_length=MAX_TARGET_LENGTH,\n",
    "            padding='max_length',\n",
    "            truncation=True,\n",
    "            return_tensors='pt'\n",
    "        )\n",
    "    \n",
    "    all_input_ids.append(inputs['input_ids'])\n",
    "    all_attention_mask.append(inputs['attention_mask'])\n",
    "    all_labels.append(labels['input_ids'])"
   ]
  },
  {
   "cell_type": "markdown",
   "id": "d780e2c2",
   "metadata": {
    "papermill": {
     "duration": 0.016452,
     "end_time": "2025-03-14T12:50:32.910188",
     "exception": false,
     "start_time": "2025-03-14T12:50:32.893736",
     "status": "completed"
    },
    "tags": []
   },
   "source": [
    "# Create input features in batches to save memory\n"
   ]
  },
  {
   "cell_type": "code",
   "execution_count": 17,
   "id": "328d6f0a",
   "metadata": {
    "execution": {
     "iopub.execute_input": "2025-03-14T12:50:32.944856Z",
     "iopub.status.busy": "2025-03-14T12:50:32.944526Z",
     "iopub.status.idle": "2025-03-14T12:50:32.950648Z",
     "shell.execute_reply": "2025-03-14T12:50:32.950020Z"
    },
    "papermill": {
     "duration": 0.025246,
     "end_time": "2025-03-14T12:50:32.952233",
     "exception": false,
     "start_time": "2025-03-14T12:50:32.926987",
     "status": "completed"
    },
    "tags": []
   },
   "outputs": [],
   "source": [
    "# Create input features in batches to save memory\n",
    "def create_features(texts, summaries, batch_size=1000):\n",
    "    all_input_ids = []\n",
    "    all_attention_mask = []\n",
    "    all_labels = []\n",
    "    \n",
    "    for i in range(0, len(texts), batch_size):\n",
    "        batch_texts = texts[i:i + batch_size]\n",
    "        batch_summaries = summaries[i:i + batch_size]\n",
    "        \n",
    "        inputs = tokenizer(\n",
    "            [\"summarize: \" + text for text in batch_texts],\n",
    "            max_length=MAX_INPUT_LENGTH,\n",
    "            padding='max_length',\n",
    "            truncation=True,\n",
    "            return_tensors='pt'\n",
    "        )\n",
    "        \n",
    "        with tokenizer.as_target_tokenizer():\n",
    "            labels = tokenizer(\n",
    "                batch_summaries,\n",
    "                max_length=MAX_TARGET_LENGTH,\n",
    "                padding='max_length',\n",
    "                truncation=True,\n",
    "                return_tensors='pt'\n",
    "            )\n",
    "        \n",
    "        all_input_ids.append(inputs['input_ids'])\n",
    "        all_attention_mask.append(inputs['attention_mask'])\n",
    "        all_labels.append(labels['input_ids'])\n",
    "    \n",
    "    return (torch.cat(all_input_ids), \n",
    "            torch.cat(all_attention_mask), \n",
    "            torch.cat(all_labels))"
   ]
  },
  {
   "cell_type": "markdown",
   "id": "0e5cf8cb",
   "metadata": {
    "papermill": {
     "duration": 0.016161,
     "end_time": "2025-03-14T12:50:32.984890",
     "exception": false,
     "start_time": "2025-03-14T12:50:32.968729",
     "status": "completed"
    },
    "tags": []
   },
   "source": [
    "# Concatenate all batches\n"
   ]
  },
  {
   "cell_type": "code",
   "execution_count": 18,
   "id": "006a41be",
   "metadata": {
    "execution": {
     "iopub.execute_input": "2025-03-14T12:50:33.019661Z",
     "iopub.status.busy": "2025-03-14T12:50:33.019417Z",
     "iopub.status.idle": "2025-03-14T12:50:33.220120Z",
     "shell.execute_reply": "2025-03-14T12:50:33.219326Z"
    },
    "papermill": {
     "duration": 0.220235,
     "end_time": "2025-03-14T12:50:33.222418",
     "exception": false,
     "start_time": "2025-03-14T12:50:33.002183",
     "status": "completed"
    },
    "tags": []
   },
   "outputs": [],
   "source": [
    "# Concatenate all batches\n",
    "train_input_ids = torch.cat(all_input_ids)\n",
    "train_attention_mask = torch.cat(all_attention_mask)\n",
    "train_labels = torch.cat(all_labels)"
   ]
  },
  {
   "cell_type": "markdown",
   "id": "0ad5da7e",
   "metadata": {
    "papermill": {
     "duration": 0.017369,
     "end_time": "2025-03-14T12:50:33.261827",
     "exception": false,
     "start_time": "2025-03-14T12:50:33.244458",
     "status": "completed"
    },
    "tags": []
   },
   "source": [
    "# Create dataset\n"
   ]
  },
  {
   "cell_type": "code",
   "execution_count": 19,
   "id": "aefc7f69",
   "metadata": {
    "execution": {
     "iopub.execute_input": "2025-03-14T12:50:33.296375Z",
     "iopub.status.busy": "2025-03-14T12:50:33.296063Z",
     "iopub.status.idle": "2025-03-14T12:50:33.300338Z",
     "shell.execute_reply": "2025-03-14T12:50:33.299641Z"
    },
    "papermill": {
     "duration": 0.023484,
     "end_time": "2025-03-14T12:50:33.301944",
     "exception": false,
     "start_time": "2025-03-14T12:50:33.278460",
     "status": "completed"
    },
    "tags": []
   },
   "outputs": [],
   "source": [
    "# Create dataset\n",
    "train_dataset = torch.utils.data.TensorDataset(\n",
    "    train_input_ids,\n",
    "    train_attention_mask,\n",
    "    train_labels\n",
    ")"
   ]
  },
  {
   "cell_type": "markdown",
   "id": "d2882bc9",
   "metadata": {
    "papermill": {
     "duration": 0.016481,
     "end_time": "2025-03-14T12:50:33.335098",
     "exception": false,
     "start_time": "2025-03-14T12:50:33.318617",
     "status": "completed"
    },
    "tags": []
   },
   "source": [
    "# Create data loader\n"
   ]
  },
  {
   "cell_type": "code",
   "execution_count": 20,
   "id": "568ad8b2",
   "metadata": {
    "execution": {
     "iopub.execute_input": "2025-03-14T12:50:33.371003Z",
     "iopub.status.busy": "2025-03-14T12:50:33.370622Z",
     "iopub.status.idle": "2025-03-14T12:50:33.376050Z",
     "shell.execute_reply": "2025-03-14T12:50:33.375212Z"
    },
    "papermill": {
     "duration": 0.026173,
     "end_time": "2025-03-14T12:50:33.377963",
     "exception": false,
     "start_time": "2025-03-14T12:50:33.351790",
     "status": "completed"
    },
    "tags": []
   },
   "outputs": [],
   "source": [
    "# Create data loader\n",
    "train_loader = DataLoader(\n",
    "    train_dataset,\n",
    "    batch_size=BATCH_SIZE,\n",
    "    shuffle=True,\n",
    "    num_workers=2,\n",
    "    pin_memory=False,\n",
    "    drop_last=True\n",
    ")"
   ]
  },
  {
   "cell_type": "markdown",
   "id": "ab4360b8",
   "metadata": {
    "papermill": {
     "duration": 0.018848,
     "end_time": "2025-03-14T12:50:33.415981",
     "exception": false,
     "start_time": "2025-03-14T12:50:33.397133",
     "status": "completed"
    },
    "tags": []
   },
   "source": [
    "# Initialize optimizer\n"
   ]
  },
  {
   "cell_type": "code",
   "execution_count": 21,
   "id": "fdf77a42",
   "metadata": {
    "execution": {
     "iopub.execute_input": "2025-03-14T12:50:33.453901Z",
     "iopub.status.busy": "2025-03-14T12:50:33.453592Z",
     "iopub.status.idle": "2025-03-14T12:50:33.885423Z",
     "shell.execute_reply": "2025-03-14T12:50:33.884685Z"
    },
    "papermill": {
     "duration": 0.453313,
     "end_time": "2025-03-14T12:50:33.887569",
     "exception": false,
     "start_time": "2025-03-14T12:50:33.434256",
     "status": "completed"
    },
    "tags": []
   },
   "outputs": [],
   "source": [
    "# Initialize optimizer\n",
    "optimizer = AdamW(\n",
    "    model.parameters(),\n",
    "    lr=LEARNING_RATE,\n",
    "    weight_decay=WEIGHT_DECAY,\n",
    "    eps=EPS,\n",
    "    foreach=True\n",
    ")"
   ]
  },
  {
   "cell_type": "markdown",
   "id": "205212b5",
   "metadata": {
    "papermill": {
     "duration": 0.016374,
     "end_time": "2025-03-14T12:50:33.921641",
     "exception": false,
     "start_time": "2025-03-14T12:50:33.905267",
     "status": "completed"
    },
    "tags": []
   },
   "source": [
    "# Setup scheduler\n"
   ]
  },
  {
   "cell_type": "code",
   "execution_count": 22,
   "id": "1f6ea254",
   "metadata": {
    "execution": {
     "iopub.execute_input": "2025-03-14T12:50:33.958685Z",
     "iopub.status.busy": "2025-03-14T12:50:33.957615Z",
     "iopub.status.idle": "2025-03-14T12:50:33.962623Z",
     "shell.execute_reply": "2025-03-14T12:50:33.961791Z"
    },
    "papermill": {
     "duration": 0.024473,
     "end_time": "2025-03-14T12:50:33.964284",
     "exception": false,
     "start_time": "2025-03-14T12:50:33.939811",
     "status": "completed"
    },
    "tags": []
   },
   "outputs": [],
   "source": [
    "# Setup scheduler\n",
    "num_training_steps = len(train_loader) * NUM_EPOCHS\n",
    "scheduler = get_cosine_schedule_with_warmup(\n",
    "    optimizer,\n",
    "    num_warmup_steps=int(num_training_steps * WARMUP_RATIO),\n",
    "    num_training_steps=num_training_steps\n",
    ")"
   ]
  },
  {
   "cell_type": "markdown",
   "id": "b6287f27",
   "metadata": {
    "papermill": {
     "duration": 0.016971,
     "end_time": "2025-03-14T12:50:33.998373",
     "exception": false,
     "start_time": "2025-03-14T12:50:33.981402",
     "status": "completed"
    },
    "tags": []
   },
   "source": [
    "# Training loop\n"
   ]
  },
  {
   "cell_type": "code",
   "execution_count": 23,
   "id": "ac2f3042",
   "metadata": {
    "execution": {
     "iopub.execute_input": "2025-03-14T12:50:34.032710Z",
     "iopub.status.busy": "2025-03-14T12:50:34.032461Z",
     "iopub.status.idle": "2025-03-14T23:07:49.536714Z",
     "shell.execute_reply": "2025-03-14T23:07:49.535736Z"
    },
    "papermill": {
     "duration": 37035.52378,
     "end_time": "2025-03-14T23:07:49.538845",
     "exception": false,
     "start_time": "2025-03-14T12:50:34.015065",
     "status": "completed"
    },
    "tags": []
   },
   "outputs": [
    {
     "name": "stdout",
     "output_type": "stream",
     "text": [
      "\n",
      "Starting training...\n"
     ]
    },
    {
     "name": "stderr",
     "output_type": "stream",
     "text": [
      "  0%|          | 0/25000 [00:00<?, ?it/s]`use_cache=True` is incompatible with gradient checkpointing. Setting `use_cache=False`...\n",
      "/opt/conda/lib/python3.10/site-packages/torch/utils/checkpoint.py:295: FutureWarning: `torch.cpu.amp.autocast(args...)` is deprecated. Please use `torch.amp.autocast('cpu', args...)` instead.\n",
      "  with torch.enable_grad(), device_autocast_ctx, torch.cpu.amp.autocast(**ctx.cpu_autocast_kwargs):  # type: ignore[attr-defined]\n",
      "100%|██████████| 25000/25000 [3:25:17<00:00,  2.03it/s, loss=1.9593, lr=4.17e-06]\n"
     ]
    },
    {
     "name": "stdout",
     "output_type": "stream",
     "text": [
      "\n",
      "Epoch 1 - Average loss: 1.9593\n",
      "New best model saved with loss: 1.9593\n"
     ]
    },
    {
     "name": "stderr",
     "output_type": "stream",
     "text": [
      "100%|██████████| 25000/25000 [3:25:55<00:00,  2.02it/s, loss=1.7310, lr=8.33e-06]\n"
     ]
    },
    {
     "name": "stdout",
     "output_type": "stream",
     "text": [
      "\n",
      "Epoch 2 - Average loss: 1.7310\n",
      "New best model saved with loss: 1.7310\n"
     ]
    },
    {
     "name": "stderr",
     "output_type": "stream",
     "text": [
      "100%|██████████| 25000/25000 [3:25:59<00:00,  2.02it/s, loss=1.6754, lr=1.25e-05]\n"
     ]
    },
    {
     "name": "stdout",
     "output_type": "stream",
     "text": [
      "\n",
      "Epoch 3 - Average loss: 1.6754\n",
      "New best model saved with loss: 1.6754\n"
     ]
    }
   ],
   "source": [
    "# Training loop\n",
    "print(\"\\nStarting training...\")\n",
    "best_loss = float('inf')\n",
    "patience = 0\n",
    "max_patience = 3\n",
    "\n",
    "for epoch in range(NUM_EPOCHS):\n",
    "    model.train()\n",
    "    total_loss = 0\n",
    "    valid_batches = 0\n",
    "    \n",
    "    progress_bar = tqdm(enumerate(train_loader), total=len(train_loader))\n",
    "    optimizer.zero_grad(set_to_none=True)\n",
    "    \n",
    "    for batch_idx, (input_ids, attention_mask, labels) in progress_bar:\n",
    "        # Move batch to GPU\n",
    "        input_ids = input_ids.to(device, non_blocking=True)\n",
    "        attention_mask = attention_mask.to(device, non_blocking=True)\n",
    "        labels = labels.to(device, non_blocking=True)\n",
    "        \n",
    "        # Replace padding token id with -100 for loss calculation\n",
    "        labels[labels == tokenizer.pad_token_id] = -100\n",
    "        \n",
    "        # Forward pass\n",
    "        outputs = model(\n",
    "            input_ids=input_ids,\n",
    "            attention_mask=attention_mask,\n",
    "            labels=labels\n",
    "        )\n",
    "        \n",
    "        # Calculate loss\n",
    "        loss = outputs.loss.mean() / ACCUMULATION_STEPS\n",
    "        \n",
    "        # Backward pass\n",
    "        loss.backward()\n",
    "        \n",
    "        if (batch_idx + 1) % ACCUMULATION_STEPS == 0:\n",
    "            # Clip gradients\n",
    "            torch.nn.utils.clip_grad_norm_(model.parameters(), GRADIENT_CLIP)\n",
    "            \n",
    "            # Optimizer step\n",
    "            optimizer.step()\n",
    "            scheduler.step()\n",
    "            optimizer.zero_grad(set_to_none=True)\n",
    "            \n",
    "            valid_batches += 1\n",
    "            total_loss += loss.item() * ACCUMULATION_STEPS\n",
    "            avg_loss = total_loss / valid_batches\n",
    "            \n",
    "            progress_bar.set_postfix({\n",
    "                'loss': f'{avg_loss:.4f}',\n",
    "                'lr': f'{optimizer.param_groups[0][\"lr\"]:.2e}'\n",
    "            })\n",
    "        \n",
    "        # Memory management\n",
    "        if batch_idx % 50 == 0:\n",
    "            torch.cuda.empty_cache()\n",
    "            gc.collect()\n",
    "    \n",
    "    # Epoch-end processing\n",
    "    avg_loss = total_loss / valid_batches\n",
    "    print(f\"\\nEpoch {epoch + 1} - Average loss: {avg_loss:.4f}\")\n",
    "    \n",
    "    # Save best model\n",
    "    if avg_loss < best_loss:\n",
    "        best_loss = avg_loss\n",
    "        patience = 0\n",
    "        torch.save(model.state_dict(), f'best_model_epoch_{epoch+1}.pt')\n",
    "        print(f\"New best model saved with loss: {avg_loss:.4f}\")\n",
    "    else:\n",
    "        patience += 1\n",
    "        if patience >= max_patience:\n",
    "            print(\"\\nEarly stopping triggered\")\n",
    "            break"
   ]
  },
  {
   "cell_type": "markdown",
   "id": "b1ac7f3a",
   "metadata": {
    "papermill": {
     "duration": 3.880377,
     "end_time": "2025-03-14T23:07:57.301137",
     "exception": false,
     "start_time": "2025-03-14T23:07:53.420760",
     "status": "completed"
    },
    "tags": []
   },
   "source": [
    "# Define text cleaning function\n"
   ]
  },
  {
   "cell_type": "code",
   "execution_count": 24,
   "id": "aabbf088",
   "metadata": {
    "execution": {
     "iopub.execute_input": "2025-03-14T23:08:04.977076Z",
     "iopub.status.busy": "2025-03-14T23:08:04.976029Z",
     "iopub.status.idle": "2025-03-14T23:08:04.982695Z",
     "shell.execute_reply": "2025-03-14T23:08:04.981944Z"
    },
    "papermill": {
     "duration": 3.820547,
     "end_time": "2025-03-14T23:08:04.984268",
     "exception": false,
     "start_time": "2025-03-14T23:08:01.163721",
     "status": "completed"
    },
    "tags": []
   },
   "outputs": [],
   "source": [
    "# Define text cleaning function\n",
    "def clean_text(text):\n",
    "    text = text.strip()\n",
    "    text = re.sub(r'\\s+', ' ', text)\n",
    "    text = re.sub(r'[^\\w\\s.,!?-]', '', text)  # Keep punctuation marks for clarity\n",
    "    return text"
   ]
  },
  {
   "cell_type": "markdown",
   "id": "c8a631c9",
   "metadata": {
    "papermill": {
     "duration": 3.81816,
     "end_time": "2025-03-14T23:08:12.660692",
     "exception": false,
     "start_time": "2025-03-14T23:08:08.842532",
     "status": "completed"
    },
    "tags": []
   },
   "source": [
    "# Summary generation function\n"
   ]
  },
  {
   "cell_type": "code",
   "execution_count": 25,
   "id": "663ec5e5",
   "metadata": {
    "execution": {
     "iopub.execute_input": "2025-03-14T23:08:20.561988Z",
     "iopub.status.busy": "2025-03-14T23:08:20.561560Z",
     "iopub.status.idle": "2025-03-14T23:08:20.568267Z",
     "shell.execute_reply": "2025-03-14T23:08:20.567518Z"
    },
    "papermill": {
     "duration": 4.063954,
     "end_time": "2025-03-14T23:08:20.569809",
     "exception": false,
     "start_time": "2025-03-14T23:08:16.505855",
     "status": "completed"
    },
    "tags": []
   },
   "outputs": [],
   "source": [
    "# Summary generation function\n",
    "def generate_summary(article_text):\n",
    "    model.eval()\n",
    "    article_text = clean_text(article_text)\n",
    "\n",
    "    try:\n",
    "        with torch.amp.autocast('cuda'), torch.no_grad():\n",
    "            inputs = tokenizer(\n",
    "                \"summarize: \" + article_text,\n",
    "                return_tensors=\"pt\",\n",
    "                max_length=MAX_INPUT_LENGTH,\n",
    "                truncation=True\n",
    "            ).to(device)\n",
    "\n",
    "            outputs = model.generate(\n",
    "                inputs['input_ids'],\n",
    "                max_length=MAX_TARGET_LENGTH,\n",
    "                min_length=50,\n",
    "                num_beams=4,\n",
    "                length_penalty=1.5,\n",
    "                no_repeat_ngram_size=3,\n",
    "                early_stopping=True,\n",
    "                do_sample=True,\n",
    "                temperature=0.7,\n",
    "                top_p=0.92,\n",
    "                top_k=50,\n",
    "                pad_token_id=tokenizer.pad_token_id,\n",
    "                eos_token_id=tokenizer.eos_token_id\n",
    "            )\n",
    "\n",
    "        summary = tokenizer.decode(outputs[0], skip_special_tokens=True)\n",
    "        return clean_text(summary)\n",
    "\n",
    "    except Exception as e:\n",
    "        print(f\"Error generating summary: {e}\")\n",
    "        return \"\"\n",
    "    finally:\n",
    "        torch.cuda.empty_cache()"
   ]
  },
  {
   "cell_type": "markdown",
   "id": "fc22a82e",
   "metadata": {
    "papermill": {
     "duration": 3.864047,
     "end_time": "2025-03-14T23:08:28.400628",
     "exception": false,
     "start_time": "2025-03-14T23:08:24.536581",
     "status": "completed"
    },
    "tags": []
   },
   "source": [
    "# Test the model on multiple samples\n"
   ]
  },
  {
   "cell_type": "code",
   "execution_count": 26,
   "id": "cd8da1d7",
   "metadata": {
    "execution": {
     "iopub.execute_input": "2025-03-14T23:08:36.270889Z",
     "iopub.status.busy": "2025-03-14T23:08:36.270549Z",
     "iopub.status.idle": "2025-03-14T23:08:41.091253Z",
     "shell.execute_reply": "2025-03-14T23:08:41.090222Z"
    },
    "papermill": {
     "duration": 8.673178,
     "end_time": "2025-03-14T23:08:41.093046",
     "exception": false,
     "start_time": "2025-03-14T23:08:32.419868",
     "status": "completed"
    },
    "tags": []
   },
   "outputs": [
    {
     "name": "stdout",
     "output_type": "stream",
     "text": [
      "\n",
      "Training complete! Testing the model on 3 samples...\n",
      "\n",
      "\n",
      "Sample 1:\n",
      "\n",
      "Original Article:\n",
      "A 73-year-old man is to appear in court today charged with the murder of his 95-year-old mother at her home. Police arrested David Powell after the pensioners body was discovered at her home in Doncaster Lane, Penkhull, Stoke-on-Trent on Thursday night. Although the body has not yet been formally identified, she is understood to be his mother Celilia Powell. Police arrested David Powell after the pensioners body was discovered at her home in Doncaster Lane pictured, Penkhull, Stoke-on-Trent . Ac...\n",
      "\n",
      "Generated Summary:\n",
      "Police arrested David Powell after body was discovered at her home . She is understood to be his mother Celilia Powell, 95 . Mr Powell, 73, is due to appear before magistrates at Newcastle-under-Lyme today .\n",
      "\n",
      "================================================================================\n",
      "\n",
      "\n",
      "Sample 2:\n",
      "\n",
      "Original Article:\n",
      "Dogs and human babies often make great companions. But a new video might have some viewers wriggling with discomfort as an infant is showered with licks by his canine friend. Footage captured by Rumble user Sean C shows Bourbon the Doberman enthusiastically licking a baby boy on the face and nose. Too close for comfort? Video footage captured by Rumble user Sean C shows Bourbon the Doberman enthusiastically licking a baby boy on the face and nose . Loving licks At one point the youngster can bar...\n",
      "\n",
      "Generated Summary:\n",
      "Footage captured by Rumble user Sean C shows Bourbon the Doberman enthusiastically licking a baby boy on the face and nose . While some have deemed the clip cute other viewers have been less impressed by whats going on .\n",
      "\n",
      "================================================================================\n",
      "\n",
      "\n",
      "Sample 3:\n",
      "\n",
      "Original Article:\n",
      "One of Britains biggest babies has been born - to a mum who asked for NO pain relief. Brave Danielle Davies gave birth to Harley at nearly 12lb following an eight hour labour without any drugs. Danielle had insisted on a natural birth - not realising she was about to deliver a massive baby. Scroll down for video . Daniel Goldstone, Danielle Davies and their son Harley, who weighed 11lb 5oz at birth . Shocked midwives were so surprised they had to weigh him twice. Newborn Harley from Morecambe, L...\n",
      "\n",
      "Generated Summary:\n",
      "Danielle Davies gave birth to her son Harley at nearly 12lb . She had insisted on a natural birth - not realising she was about to deliver a massive baby . Midwives were so surprised they had to weigh him twice .\n",
      "\n",
      "================================================================================\n",
      "\n"
     ]
    }
   ],
   "source": [
    "# Test the model on multiple samples\n",
    "print(\"\\nTraining complete! Testing the model on 3 samples...\\n\")\n",
    "torch.cuda.empty_cache()\n",
    "\n",
    "# Select three sample articles\n",
    "num_samples = 3\n",
    "sample_articles = test_df['article'].sample(n=num_samples, random_state=42).tolist()\n",
    "\n",
    "for idx, article in enumerate(sample_articles):\n",
    "    print(f\"\\nSample {idx + 1}:\\n\")\n",
    "    \n",
    "    generated_summary = generate_summary(article)\n",
    "    \n",
    "    print(\"Original Article:\")\n",
    "    print(article[:500] + \"...\" if len(article) > 500 else article)\n",
    "    \n",
    "    print(\"\\nGenerated Summary:\")\n",
    "    print(generated_summary)\n",
    "    print(\"\\n\" + \"=\" * 80 + \"\\n\")  # Separator line for readability"
   ]
  },
  {
   "cell_type": "markdown",
   "id": "bd22f1b0",
   "metadata": {
    "papermill": {
     "duration": 3.837527,
     "end_time": "2025-03-14T23:08:48.728868",
     "exception": false,
     "start_time": "2025-03-14T23:08:44.891341",
     "status": "completed"
    },
    "tags": []
   },
   "source": [
    "# Sample evaluation function\n"
   ]
  },
  {
   "cell_type": "code",
   "execution_count": 27,
   "id": "f139da44",
   "metadata": {
    "execution": {
     "iopub.execute_input": "2025-03-14T23:08:56.475202Z",
     "iopub.status.busy": "2025-03-14T23:08:56.474818Z",
     "iopub.status.idle": "2025-03-14T23:08:56.483474Z",
     "shell.execute_reply": "2025-03-14T23:08:56.482740Z"
    },
    "papermill": {
     "duration": 3.849799,
     "end_time": "2025-03-14T23:08:56.484999",
     "exception": false,
     "start_time": "2025-03-14T23:08:52.635200",
     "status": "completed"
    },
    "tags": []
   },
   "outputs": [],
   "source": [
    "# Sample evaluation function\n",
    "def evaluate_summary(original, generated):\n",
    "    # Initialize scores\n",
    "    scores = {\n",
    "        'coherence': 0,\n",
    "        'conciseness': 0,\n",
    "        'relevance': 0,\n",
    "        'fluency': 0,\n",
    "        'coverage': 0\n",
    "    }\n",
    "    \n",
    "    # Coherence (1-5 scale)\n",
    "    # Check if the summary follows the narrative logically\n",
    "    if generated in original:\n",
    "        scores['coherence'] = 5\n",
    "    elif len(generated) < len(original) / 2:\n",
    "        scores['coherence'] = 2\n",
    "    else:\n",
    "        scores['coherence'] = 3\n",
    "    \n",
    "    # Conciseness (1-5 scale)\n",
    "    # If summary is too long compared to original, lower score\n",
    "    if len(generated.split()) <= len(original.split()) * 0.5:\n",
    "        scores['conciseness'] = 5\n",
    "    elif len(generated.split()) <= len(original.split()) * 0.75:\n",
    "        scores['conciseness'] = 4\n",
    "    else:\n",
    "        scores['conciseness'] = 3\n",
    "    \n",
    "    # Relevance (1-5 scale)\n",
    "    # Count how many key details from the original are present\n",
    "    keywords = re.findall(r'\\b\\w+\\b', original.lower())\n",
    "    relevant_count = sum(1 for word in keywords if word in generated.lower())\n",
    "    if relevant_count / len(keywords) > 0.5:\n",
    "        scores['relevance'] = 5\n",
    "    elif relevant_count / len(keywords) > 0.3:\n",
    "        scores['relevance'] = 4\n",
    "    else:\n",
    "        scores['relevance'] = 2\n",
    "    \n",
    "    # Fluency (1-5 scale)\n",
    "    # Check for grammatical correctness\n",
    "    fluency_issues = sum(1 for word in generated.split() if not re.match(r'^[A-Za-z.,!?]+$', word))\n",
    "    scores['fluency'] = max(0, 5 - fluency_issues)\n",
    "    \n",
    "    # Coverage (1-5 scale)\n",
    "    # Check if all key points are covered\n",
    "    if len(generated) < 20:\n",
    "        scores['coverage'] = 1\n",
    "    elif original in generated:\n",
    "        scores['coverage'] = 5\n",
    "    else:\n",
    "        scores['coverage'] = 3\n",
    "    \n",
    "    return scores"
   ]
  },
  {
   "cell_type": "markdown",
   "id": "5ca51d44",
   "metadata": {
    "papermill": {
     "duration": 3.856799,
     "end_time": "2025-03-14T23:09:04.109992",
     "exception": false,
     "start_time": "2025-03-14T23:09:00.253193",
     "status": "completed"
    },
    "tags": []
   },
   "source": [
    "# Testing the evaluation function\n"
   ]
  },
  {
   "cell_type": "code",
   "execution_count": 28,
   "id": "8ada9afe",
   "metadata": {
    "execution": {
     "iopub.execute_input": "2025-03-14T23:09:11.736087Z",
     "iopub.status.busy": "2025-03-14T23:09:11.735713Z",
     "iopub.status.idle": "2025-03-14T23:09:11.740538Z",
     "shell.execute_reply": "2025-03-14T23:09:11.739770Z"
    },
    "papermill": {
     "duration": 3.78986,
     "end_time": "2025-03-14T23:09:11.742189",
     "exception": false,
     "start_time": "2025-03-14T23:09:07.952329",
     "status": "completed"
    },
    "tags": []
   },
   "outputs": [],
   "source": [
    "# Testing the evaluation function\n",
    "sample_articles = [\n",
    "    (\"A 73-year-old man is to appear in court today charged with the murder of his 95-year-old mother at her home. Police arrested David Powell after the pensioners body was discovered at her home in Doncaster Lane, Penkhull, Stoke-on-Trent on Thursday night.\", \n",
    "     \"Police arrested David Powell after body was discovered at her home. She is understood to be his mother Celilia Powell, 95. Mr Powell, 73, is due to appear before magistrates at Newcastle-under-Lyme today.\"),\n",
    "\n",
    "    (\"Dogs and human babies often make great companions. But a new video might have some viewers wriggling with discomfort as an infant is showered with licks by his canine friend.\", \n",
    "     \"Video footage captured by Rumble user Sean C shows Bourbon the Doberman enthusiastically licking a baby boy on the face and nose. While some have deemed the clip cute other viewers have been less impressed by what’s going on.\"),\n",
    "\n",
    "    (\"One of Britains biggest babies has been born - to a mum who asked for NO pain relief. Brave Danielle Davies gave birth to Harley at nearly 12lb following an eight hour labour without any drugs.\", \n",
    "     \"Danielle Davies gave birth to her son Harley at nearly 12lb. She had insisted on a natural birth - not realizing she was about to deliver a massive baby. Midwives were so surprised they had to weigh him twice.\")\n",
    "]"
   ]
  },
  {
   "cell_type": "markdown",
   "id": "198cb211",
   "metadata": {
    "papermill": {
     "duration": 3.830952,
     "end_time": "2025-03-14T23:09:19.537617",
     "exception": false,
     "start_time": "2025-03-14T23:09:15.706665",
     "status": "completed"
    },
    "tags": []
   },
   "source": [
    "# Evaluate each sample\n"
   ]
  },
  {
   "cell_type": "code",
   "execution_count": 29,
   "id": "67e537a7",
   "metadata": {
    "execution": {
     "iopub.execute_input": "2025-03-14T23:09:27.425606Z",
     "iopub.status.busy": "2025-03-14T23:09:27.424793Z",
     "iopub.status.idle": "2025-03-14T23:09:27.430942Z",
     "shell.execute_reply": "2025-03-14T23:09:27.430132Z"
    },
    "papermill": {
     "duration": 3.894358,
     "end_time": "2025-03-14T23:09:27.432723",
     "exception": false,
     "start_time": "2025-03-14T23:09:23.538365",
     "status": "completed"
    },
    "tags": []
   },
   "outputs": [
    {
     "name": "stdout",
     "output_type": "stream",
     "text": [
      "Sample 1 Evaluation Scores:\n",
      "Coherence: 3/5\n",
      "Conciseness: 3/5\n",
      "Relevance: 5/5\n",
      "Fluency: 2/5\n",
      "Coverage: 3/5\n",
      "\n",
      "========================================\n",
      "\n",
      "Sample 2 Evaluation Scores:\n",
      "Coherence: 3/5\n",
      "Conciseness: 3/5\n",
      "Relevance: 2/5\n",
      "Fluency: 4/5\n",
      "Coverage: 3/5\n",
      "\n",
      "========================================\n",
      "\n",
      "Sample 3 Evaluation Scores:\n",
      "Coherence: 3/5\n",
      "Conciseness: 3/5\n",
      "Relevance: 4/5\n",
      "Fluency: 3/5\n",
      "Coverage: 3/5\n",
      "\n",
      "========================================\n",
      "\n"
     ]
    }
   ],
   "source": [
    "# Evaluate each sample\n",
    "for idx, (original, generated) in enumerate(sample_articles):\n",
    "    scores = evaluate_summary(original, generated)\n",
    "    print(f\"Sample {idx + 1} Evaluation Scores:\")\n",
    "    for criterion, score in scores.items():\n",
    "        print(f\"{criterion.capitalize()}: {score}/5\")\n",
    "    print(\"\\n\" + \"=\"*40 + \"\\n\")"
   ]
  },
  {
   "cell_type": "markdown",
   "id": "b29fc7d2",
   "metadata": {
    "papermill": {
     "duration": 3.792993,
     "end_time": "2025-03-14T23:09:35.049949",
     "exception": false,
     "start_time": "2025-03-14T23:09:31.256956",
     "status": "completed"
    },
    "tags": []
   },
   "source": [
    "# Final model saving\n"
   ]
  },
  {
   "cell_type": "code",
   "execution_count": 30,
   "id": "65095d98",
   "metadata": {
    "execution": {
     "iopub.execute_input": "2025-03-14T23:09:42.744157Z",
     "iopub.status.busy": "2025-03-14T23:09:42.743794Z",
     "iopub.status.idle": "2025-03-14T23:09:44.907901Z",
     "shell.execute_reply": "2025-03-14T23:09:44.907099Z"
    },
    "papermill": {
     "duration": 6.048386,
     "end_time": "2025-03-14T23:09:44.909634",
     "exception": false,
     "start_time": "2025-03-14T23:09:38.861248",
     "status": "completed"
    },
    "tags": []
   },
   "outputs": [
    {
     "name": "stdout",
     "output_type": "stream",
     "text": [
      "\n",
      "Saving final model...\n"
     ]
    },
    {
     "data": {
      "text/plain": [
       "('./summarization_model/tokenizer_config.json',\n",
       " './summarization_model/special_tokens_map.json',\n",
       " './summarization_model/spiece.model',\n",
       " './summarization_model/added_tokens.json')"
      ]
     },
     "execution_count": 30,
     "metadata": {},
     "output_type": "execute_result"
    }
   ],
   "source": [
    "# Final model saving\n",
    "print(\"\\nSaving final model...\")\n",
    "model.save_pretrained('./summarization_model')\n",
    "tokenizer.save_pretrained('./summarization_model')"
   ]
  },
  {
   "cell_type": "markdown",
   "id": "61f25ee9",
   "metadata": {
    "papermill": {
     "duration": 3.820964,
     "end_time": "2025-03-14T23:09:52.577458",
     "exception": false,
     "start_time": "2025-03-14T23:09:48.756494",
     "status": "completed"
    },
    "tags": []
   },
   "source": [
    "# Clean up\n"
   ]
  },
  {
   "cell_type": "code",
   "execution_count": 31,
   "id": "95cf00ce",
   "metadata": {
    "execution": {
     "iopub.execute_input": "2025-03-14T23:10:00.374166Z",
     "iopub.status.busy": "2025-03-14T23:10:00.373226Z",
     "iopub.status.idle": "2025-03-14T23:10:00.514554Z",
     "shell.execute_reply": "2025-03-14T23:10:00.513668Z"
    },
    "papermill": {
     "duration": 4.031938,
     "end_time": "2025-03-14T23:10:00.516266",
     "exception": false,
     "start_time": "2025-03-14T23:09:56.484328",
     "status": "completed"
    },
    "tags": []
   },
   "outputs": [
    {
     "data": {
      "text/plain": [
       "171"
      ]
     },
     "execution_count": 31,
     "metadata": {},
     "output_type": "execute_result"
    }
   ],
   "source": [
    "# Clean up\n",
    "torch.cuda.empty_cache()\n",
    "gc.collect()"
   ]
  },
  {
   "cell_type": "code",
   "execution_count": 32,
   "id": "f487b3b5",
   "metadata": {
    "execution": {
     "iopub.execute_input": "2025-03-14T23:10:08.141181Z",
     "iopub.status.busy": "2025-03-14T23:10:08.140796Z",
     "iopub.status.idle": "2025-03-14T23:10:08.145416Z",
     "shell.execute_reply": "2025-03-14T23:10:08.144671Z"
    },
    "papermill": {
     "duration": 3.825718,
     "end_time": "2025-03-14T23:10:08.147166",
     "exception": false,
     "start_time": "2025-03-14T23:10:04.321448",
     "status": "completed"
    },
    "tags": []
   },
   "outputs": [
    {
     "name": "stdout",
     "output_type": "stream",
     "text": [
      "Training completed!\n"
     ]
    }
   ],
   "source": [
    "print(\"Training completed!\")"
   ]
  }
 ],
 "metadata": {
  "kaggle": {
   "accelerator": "nvidiaTeslaT4",
   "dataSources": [],
   "dockerImageVersionId": 30786,
   "isGpuEnabled": true,
   "isInternetEnabled": true,
   "language": "python",
   "sourceType": "notebook"
  },
  "kernelspec": {
   "display_name": "Python 3",
   "language": "python",
   "name": "python3"
  },
  "language_info": {
   "codemirror_mode": {
    "name": "ipython",
    "version": 3
   },
   "file_extension": ".py",
   "mimetype": "text/x-python",
   "name": "python",
   "nbconvert_exporter": "python",
   "pygments_lexer": "ipython3",
   "version": "3.10.14"
  },
  "papermill": {
   "default_parameters": {},
   "duration": 37485.149584,
   "end_time": "2025-03-14T23:10:15.374298",
   "environment_variables": {},
   "exception": null,
   "input_path": "__notebook__.ipynb",
   "output_path": "__notebook__.ipynb",
   "parameters": {},
   "start_time": "2025-03-14T12:45:30.224714",
   "version": "2.6.0"
  },
  "widgets": {
   "application/vnd.jupyter.widget-state+json": {
    "state": {
     "0001241862ec46e7a7a77d6a8e6b1fb3": {
      "model_module": "@jupyter-widgets/base",
      "model_module_version": "1.2.0",
      "model_name": "LayoutModel",
      "state": {
       "_model_module": "@jupyter-widgets/base",
       "_model_module_version": "1.2.0",
       "_model_name": "LayoutModel",
       "_view_count": null,
       "_view_module": "@jupyter-widgets/base",
       "_view_module_version": "1.2.0",
       "_view_name": "LayoutView",
       "align_content": null,
       "align_items": null,
       "align_self": null,
       "border": null,
       "bottom": null,
       "display": null,
       "flex": null,
       "flex_flow": null,
       "grid_area": null,
       "grid_auto_columns": null,
       "grid_auto_flow": null,
       "grid_auto_rows": null,
       "grid_column": null,
       "grid_gap": null,
       "grid_row": null,
       "grid_template_areas": null,
       "grid_template_columns": null,
       "grid_template_rows": null,
       "height": null,
       "justify_content": null,
       "justify_items": null,
       "left": null,
       "margin": null,
       "max_height": null,
       "max_width": null,
       "min_height": null,
       "min_width": null,
       "object_fit": null,
       "object_position": null,
       "order": null,
       "overflow": null,
       "overflow_x": null,
       "overflow_y": null,
       "padding": null,
       "right": null,
       "top": null,
       "visibility": null,
       "width": null
      }
     },
     "009618c6476a4d99b15bb1eef11c9356": {
      "model_module": "@jupyter-widgets/controls",
      "model_module_version": "1.5.0",
      "model_name": "FloatProgressModel",
      "state": {
       "_dom_classes": [],
       "_model_module": "@jupyter-widgets/controls",
       "_model_module_version": "1.5.0",
       "_model_name": "FloatProgressModel",
       "_view_count": null,
       "_view_module": "@jupyter-widgets/controls",
       "_view_module_version": "1.5.0",
       "_view_name": "ProgressView",
       "bar_style": "success",
       "description": "",
       "description_tooltip": null,
       "layout": "IPY_MODEL_f65aaac4a9604522a1a31869ffd82e6d",
       "max": 791656.0,
       "min": 0.0,
       "orientation": "horizontal",
       "style": "IPY_MODEL_da7e80c1d1de4943aa881fafcf0d7ebf",
       "value": 791656.0
      }
     },
     "068a2421c5944f23a05e8a569fbd44f0": {
      "model_module": "@jupyter-widgets/controls",
      "model_module_version": "1.5.0",
      "model_name": "FloatProgressModel",
      "state": {
       "_dom_classes": [],
       "_model_module": "@jupyter-widgets/controls",
       "_model_module_version": "1.5.0",
       "_model_name": "FloatProgressModel",
       "_view_count": null,
       "_view_module": "@jupyter-widgets/controls",
       "_view_module_version": "1.5.0",
       "_view_name": "ProgressView",
       "bar_style": "success",
       "description": "",
       "description_tooltip": null,
       "layout": "IPY_MODEL_0001241862ec46e7a7a77d6a8e6b1fb3",
       "max": 1389353.0,
       "min": 0.0,
       "orientation": "horizontal",
       "style": "IPY_MODEL_9d52136a534a49eca8d6050f59eb0d42",
       "value": 1389353.0
      }
     },
     "068e2c3161a641178d8bd3185b24f4bb": {
      "model_module": "@jupyter-widgets/controls",
      "model_module_version": "1.5.0",
      "model_name": "HTMLModel",
      "state": {
       "_dom_classes": [],
       "_model_module": "@jupyter-widgets/controls",
       "_model_module_version": "1.5.0",
       "_model_name": "HTMLModel",
       "_view_count": null,
       "_view_module": "@jupyter-widgets/controls",
       "_view_module_version": "1.5.0",
       "_view_name": "HTMLView",
       "description": "",
       "description_tooltip": null,
       "layout": "IPY_MODEL_dae2ad3fc1c044ddbf3016ecd265eafc",
       "placeholder": "​",
       "style": "IPY_MODEL_ff06aee44b854d229fbfaf9b6acd61a7",
       "value": "config.json: 100%"
      }
     },
     "08f5785b180344b9ad3e9bc1f381e083": {
      "model_module": "@jupyter-widgets/controls",
      "model_module_version": "1.5.0",
      "model_name": "DescriptionStyleModel",
      "state": {
       "_model_module": "@jupyter-widgets/controls",
       "_model_module_version": "1.5.0",
       "_model_name": "DescriptionStyleModel",
       "_view_count": null,
       "_view_module": "@jupyter-widgets/base",
       "_view_module_version": "1.2.0",
       "_view_name": "StyleView",
       "description_width": ""
      }
     },
     "093dab9726a3451480d0c92a69d18a05": {
      "model_module": "@jupyter-widgets/controls",
      "model_module_version": "1.5.0",
      "model_name": "DescriptionStyleModel",
      "state": {
       "_model_module": "@jupyter-widgets/controls",
       "_model_module_version": "1.5.0",
       "_model_name": "DescriptionStyleModel",
       "_view_count": null,
       "_view_module": "@jupyter-widgets/base",
       "_view_module_version": "1.2.0",
       "_view_name": "StyleView",
       "description_width": ""
      }
     },
     "098379e0e0df4cdca4ef9b2346426d88": {
      "model_module": "@jupyter-widgets/controls",
      "model_module_version": "1.5.0",
      "model_name": "HTMLModel",
      "state": {
       "_dom_classes": [],
       "_model_module": "@jupyter-widgets/controls",
       "_model_module_version": "1.5.0",
       "_model_name": "HTMLModel",
       "_view_count": null,
       "_view_module": "@jupyter-widgets/controls",
       "_view_module_version": "1.5.0",
       "_view_name": "HTMLView",
       "description": "",
       "description_tooltip": null,
       "layout": "IPY_MODEL_4ec0b95ae9d546d891f22042f8b9847e",
       "placeholder": "​",
       "style": "IPY_MODEL_aa61a1d99d1a4429a072bd737913f1c0",
       "value": "tokenizer.json: 100%"
      }
     },
     "0a07e986d2c246308d63c25853438c65": {
      "model_module": "@jupyter-widgets/controls",
      "model_module_version": "1.5.0",
      "model_name": "HBoxModel",
      "state": {
       "_dom_classes": [],
       "_model_module": "@jupyter-widgets/controls",
       "_model_module_version": "1.5.0",
       "_model_name": "HBoxModel",
       "_view_count": null,
       "_view_module": "@jupyter-widgets/controls",
       "_view_module_version": "1.5.0",
       "_view_name": "HBoxView",
       "box_style": "",
       "children": [
        "IPY_MODEL_12b65716a658426286dcef3d76456977",
        "IPY_MODEL_9a8d7afd8c724029b7ec1fe6bbbe951a",
        "IPY_MODEL_46f5f1fb9624451e89141e4c0f8053d0"
       ],
       "layout": "IPY_MODEL_b46ee50bdd5c4471b3c31fcde8a5ddb1"
      }
     },
     "0afad50f9cfd4ab2ae85fb69d175e66e": {
      "model_module": "@jupyter-widgets/base",
      "model_module_version": "1.2.0",
      "model_name": "LayoutModel",
      "state": {
       "_model_module": "@jupyter-widgets/base",
       "_model_module_version": "1.2.0",
       "_model_name": "LayoutModel",
       "_view_count": null,
       "_view_module": "@jupyter-widgets/base",
       "_view_module_version": "1.2.0",
       "_view_name": "LayoutView",
       "align_content": null,
       "align_items": null,
       "align_self": null,
       "border": null,
       "bottom": null,
       "display": null,
       "flex": null,
       "flex_flow": null,
       "grid_area": null,
       "grid_auto_columns": null,
       "grid_auto_flow": null,
       "grid_auto_rows": null,
       "grid_column": null,
       "grid_gap": null,
       "grid_row": null,
       "grid_template_areas": null,
       "grid_template_columns": null,
       "grid_template_rows": null,
       "height": null,
       "justify_content": null,
       "justify_items": null,
       "left": null,
       "margin": null,
       "max_height": null,
       "max_width": null,
       "min_height": null,
       "min_width": null,
       "object_fit": null,
       "object_position": null,
       "order": null,
       "overflow": null,
       "overflow_x": null,
       "overflow_y": null,
       "padding": null,
       "right": null,
       "top": null,
       "visibility": null,
       "width": null
      }
     },
     "0d063fdd544c4ef2babb3eae9056131e": {
      "model_module": "@jupyter-widgets/controls",
      "model_module_version": "1.5.0",
      "model_name": "DescriptionStyleModel",
      "state": {
       "_model_module": "@jupyter-widgets/controls",
       "_model_module_version": "1.5.0",
       "_model_name": "DescriptionStyleModel",
       "_view_count": null,
       "_view_module": "@jupyter-widgets/base",
       "_view_module_version": "1.2.0",
       "_view_name": "StyleView",
       "description_width": ""
      }
     },
     "12b65716a658426286dcef3d76456977": {
      "model_module": "@jupyter-widgets/controls",
      "model_module_version": "1.5.0",
      "model_name": "HTMLModel",
      "state": {
       "_dom_classes": [],
       "_model_module": "@jupyter-widgets/controls",
       "_model_module_version": "1.5.0",
       "_model_name": "HTMLModel",
       "_view_count": null,
       "_view_module": "@jupyter-widgets/controls",
       "_view_module_version": "1.5.0",
       "_view_name": "HTMLView",
       "description": "",
       "description_tooltip": null,
       "layout": "IPY_MODEL_c2ca2015b72c45f1b35ce90ef5b004a9",
       "placeholder": "​",
       "style": "IPY_MODEL_6edafd7607434f81aba17a9b7bcda90d",
       "value": "model.safetensors: 100%"
      }
     },
     "158d31c5645b4e33ac8c6b9dc9daf38b": {
      "model_module": "@jupyter-widgets/base",
      "model_module_version": "1.2.0",
      "model_name": "LayoutModel",
      "state": {
       "_model_module": "@jupyter-widgets/base",
       "_model_module_version": "1.2.0",
       "_model_name": "LayoutModel",
       "_view_count": null,
       "_view_module": "@jupyter-widgets/base",
       "_view_module_version": "1.2.0",
       "_view_name": "LayoutView",
       "align_content": null,
       "align_items": null,
       "align_self": null,
       "border": null,
       "bottom": null,
       "display": null,
       "flex": null,
       "flex_flow": null,
       "grid_area": null,
       "grid_auto_columns": null,
       "grid_auto_flow": null,
       "grid_auto_rows": null,
       "grid_column": null,
       "grid_gap": null,
       "grid_row": null,
       "grid_template_areas": null,
       "grid_template_columns": null,
       "grid_template_rows": null,
       "height": null,
       "justify_content": null,
       "justify_items": null,
       "left": null,
       "margin": null,
       "max_height": null,
       "max_width": null,
       "min_height": null,
       "min_width": null,
       "object_fit": null,
       "object_position": null,
       "order": null,
       "overflow": null,
       "overflow_x": null,
       "overflow_y": null,
       "padding": null,
       "right": null,
       "top": null,
       "visibility": null,
       "width": null
      }
     },
     "18e9dfc3086847ee80db527902e743de": {
      "model_module": "@jupyter-widgets/controls",
      "model_module_version": "1.5.0",
      "model_name": "HBoxModel",
      "state": {
       "_dom_classes": [],
       "_model_module": "@jupyter-widgets/controls",
       "_model_module_version": "1.5.0",
       "_model_name": "HBoxModel",
       "_view_count": null,
       "_view_module": "@jupyter-widgets/controls",
       "_view_module_version": "1.5.0",
       "_view_name": "HBoxView",
       "box_style": "",
       "children": [
        "IPY_MODEL_39b9804dd2eb4292bdf499eb20e88850",
        "IPY_MODEL_d2b50fb6bdb6462d9b22025228c085a8",
        "IPY_MODEL_ff1b844048c240ff8385f02aa4e0a8f7"
       ],
       "layout": "IPY_MODEL_983075490cd0452994d862442a18feb9"
      }
     },
     "2246bdc3877c4dc39f7d36c4ce784995": {
      "model_module": "@jupyter-widgets/controls",
      "model_module_version": "1.5.0",
      "model_name": "HTMLModel",
      "state": {
       "_dom_classes": [],
       "_model_module": "@jupyter-widgets/controls",
       "_model_module_version": "1.5.0",
       "_model_name": "HTMLModel",
       "_view_count": null,
       "_view_module": "@jupyter-widgets/controls",
       "_view_module_version": "1.5.0",
       "_view_name": "HTMLView",
       "description": "",
       "description_tooltip": null,
       "layout": "IPY_MODEL_71e32f688bd24d4d820c15e5da34139e",
       "placeholder": "​",
       "style": "IPY_MODEL_62f3dbd045c7496297beb512bbcce578",
       "value": "spiece.model: 100%"
      }
     },
     "2f3c4af8cf20461bb528d42e9aeaf141": {
      "model_module": "@jupyter-widgets/controls",
      "model_module_version": "1.5.0",
      "model_name": "ProgressStyleModel",
      "state": {
       "_model_module": "@jupyter-widgets/controls",
       "_model_module_version": "1.5.0",
       "_model_name": "ProgressStyleModel",
       "_view_count": null,
       "_view_module": "@jupyter-widgets/base",
       "_view_module_version": "1.2.0",
       "_view_name": "StyleView",
       "bar_color": null,
       "description_width": ""
      }
     },
     "39b9804dd2eb4292bdf499eb20e88850": {
      "model_module": "@jupyter-widgets/controls",
      "model_module_version": "1.5.0",
      "model_name": "HTMLModel",
      "state": {
       "_dom_classes": [],
       "_model_module": "@jupyter-widgets/controls",
       "_model_module_version": "1.5.0",
       "_model_name": "HTMLModel",
       "_view_count": null,
       "_view_module": "@jupyter-widgets/controls",
       "_view_module_version": "1.5.0",
       "_view_name": "HTMLView",
       "description": "",
       "description_tooltip": null,
       "layout": "IPY_MODEL_85196f0fb30d4196bc53989e8c4d5130",
       "placeholder": "​",
       "style": "IPY_MODEL_60d6125a4c36426db3c3784a0326d269",
       "value": "generation_config.json: 100%"
      }
     },
     "46f5f1fb9624451e89141e4c0f8053d0": {
      "model_module": "@jupyter-widgets/controls",
      "model_module_version": "1.5.0",
      "model_name": "HTMLModel",
      "state": {
       "_dom_classes": [],
       "_model_module": "@jupyter-widgets/controls",
       "_model_module_version": "1.5.0",
       "_model_name": "HTMLModel",
       "_view_count": null,
       "_view_module": "@jupyter-widgets/controls",
       "_view_module_version": "1.5.0",
       "_view_name": "HTMLView",
       "description": "",
       "description_tooltip": null,
       "layout": "IPY_MODEL_de39bfd297b34551b09a3e95e646ba6c",
       "placeholder": "​",
       "style": "IPY_MODEL_093dab9726a3451480d0c92a69d18a05",
       "value": " 892M/892M [00:04&lt;00:00, 195MB/s]"
      }
     },
     "48321cde49ca421ab65d0d5e038d6de1": {
      "model_module": "@jupyter-widgets/controls",
      "model_module_version": "1.5.0",
      "model_name": "HTMLModel",
      "state": {
       "_dom_classes": [],
       "_model_module": "@jupyter-widgets/controls",
       "_model_module_version": "1.5.0",
       "_model_name": "HTMLModel",
       "_view_count": null,
       "_view_module": "@jupyter-widgets/controls",
       "_view_module_version": "1.5.0",
       "_view_name": "HTMLView",
       "description": "",
       "description_tooltip": null,
       "layout": "IPY_MODEL_5d1391047f564d578413629cd7739b33",
       "placeholder": "​",
       "style": "IPY_MODEL_0d063fdd544c4ef2babb3eae9056131e",
       "value": " 1.21k/1.21k [00:00&lt;00:00, 118kB/s]"
      }
     },
     "4ec0b95ae9d546d891f22042f8b9847e": {
      "model_module": "@jupyter-widgets/base",
      "model_module_version": "1.2.0",
      "model_name": "LayoutModel",
      "state": {
       "_model_module": "@jupyter-widgets/base",
       "_model_module_version": "1.2.0",
       "_model_name": "LayoutModel",
       "_view_count": null,
       "_view_module": "@jupyter-widgets/base",
       "_view_module_version": "1.2.0",
       "_view_name": "LayoutView",
       "align_content": null,
       "align_items": null,
       "align_self": null,
       "border": null,
       "bottom": null,
       "display": null,
       "flex": null,
       "flex_flow": null,
       "grid_area": null,
       "grid_auto_columns": null,
       "grid_auto_flow": null,
       "grid_auto_rows": null,
       "grid_column": null,
       "grid_gap": null,
       "grid_row": null,
       "grid_template_areas": null,
       "grid_template_columns": null,
       "grid_template_rows": null,
       "height": null,
       "justify_content": null,
       "justify_items": null,
       "left": null,
       "margin": null,
       "max_height": null,
       "max_width": null,
       "min_height": null,
       "min_width": null,
       "object_fit": null,
       "object_position": null,
       "order": null,
       "overflow": null,
       "overflow_x": null,
       "overflow_y": null,
       "padding": null,
       "right": null,
       "top": null,
       "visibility": null,
       "width": null
      }
     },
     "4ec502b0817f44bfbcfb2f5db61a02ae": {
      "model_module": "@jupyter-widgets/controls",
      "model_module_version": "1.5.0",
      "model_name": "DescriptionStyleModel",
      "state": {
       "_model_module": "@jupyter-widgets/controls",
       "_model_module_version": "1.5.0",
       "_model_name": "DescriptionStyleModel",
       "_view_count": null,
       "_view_module": "@jupyter-widgets/base",
       "_view_module_version": "1.2.0",
       "_view_name": "StyleView",
       "description_width": ""
      }
     },
     "5d1391047f564d578413629cd7739b33": {
      "model_module": "@jupyter-widgets/base",
      "model_module_version": "1.2.0",
      "model_name": "LayoutModel",
      "state": {
       "_model_module": "@jupyter-widgets/base",
       "_model_module_version": "1.2.0",
       "_model_name": "LayoutModel",
       "_view_count": null,
       "_view_module": "@jupyter-widgets/base",
       "_view_module_version": "1.2.0",
       "_view_name": "LayoutView",
       "align_content": null,
       "align_items": null,
       "align_self": null,
       "border": null,
       "bottom": null,
       "display": null,
       "flex": null,
       "flex_flow": null,
       "grid_area": null,
       "grid_auto_columns": null,
       "grid_auto_flow": null,
       "grid_auto_rows": null,
       "grid_column": null,
       "grid_gap": null,
       "grid_row": null,
       "grid_template_areas": null,
       "grid_template_columns": null,
       "grid_template_rows": null,
       "height": null,
       "justify_content": null,
       "justify_items": null,
       "left": null,
       "margin": null,
       "max_height": null,
       "max_width": null,
       "min_height": null,
       "min_width": null,
       "object_fit": null,
       "object_position": null,
       "order": null,
       "overflow": null,
       "overflow_x": null,
       "overflow_y": null,
       "padding": null,
       "right": null,
       "top": null,
       "visibility": null,
       "width": null
      }
     },
     "5e4db4b3a7f94e73bbe51601ebbe7bb3": {
      "model_module": "@jupyter-widgets/controls",
      "model_module_version": "1.5.0",
      "model_name": "FloatProgressModel",
      "state": {
       "_dom_classes": [],
       "_model_module": "@jupyter-widgets/controls",
       "_model_module_version": "1.5.0",
       "_model_name": "FloatProgressModel",
       "_view_count": null,
       "_view_module": "@jupyter-widgets/controls",
       "_view_module_version": "1.5.0",
       "_view_name": "ProgressView",
       "bar_style": "success",
       "description": "",
       "description_tooltip": null,
       "layout": "IPY_MODEL_fed56455a9aa4adba817ce5a07d70b2d",
       "max": 1208.0,
       "min": 0.0,
       "orientation": "horizontal",
       "style": "IPY_MODEL_2f3c4af8cf20461bb528d42e9aeaf141",
       "value": 1208.0
      }
     },
     "60d6125a4c36426db3c3784a0326d269": {
      "model_module": "@jupyter-widgets/controls",
      "model_module_version": "1.5.0",
      "model_name": "DescriptionStyleModel",
      "state": {
       "_model_module": "@jupyter-widgets/controls",
       "_model_module_version": "1.5.0",
       "_model_name": "DescriptionStyleModel",
       "_view_count": null,
       "_view_module": "@jupyter-widgets/base",
       "_view_module_version": "1.2.0",
       "_view_name": "StyleView",
       "description_width": ""
      }
     },
     "62f3dbd045c7496297beb512bbcce578": {
      "model_module": "@jupyter-widgets/controls",
      "model_module_version": "1.5.0",
      "model_name": "DescriptionStyleModel",
      "state": {
       "_model_module": "@jupyter-widgets/controls",
       "_model_module_version": "1.5.0",
       "_model_name": "DescriptionStyleModel",
       "_view_count": null,
       "_view_module": "@jupyter-widgets/base",
       "_view_module_version": "1.2.0",
       "_view_name": "StyleView",
       "description_width": ""
      }
     },
     "63bc59abe1c8421ebe15129a66d9af4e": {
      "model_module": "@jupyter-widgets/controls",
      "model_module_version": "1.5.0",
      "model_name": "HBoxModel",
      "state": {
       "_dom_classes": [],
       "_model_module": "@jupyter-widgets/controls",
       "_model_module_version": "1.5.0",
       "_model_name": "HBoxModel",
       "_view_count": null,
       "_view_module": "@jupyter-widgets/controls",
       "_view_module_version": "1.5.0",
       "_view_name": "HBoxView",
       "box_style": "",
       "children": [
        "IPY_MODEL_068e2c3161a641178d8bd3185b24f4bb",
        "IPY_MODEL_5e4db4b3a7f94e73bbe51601ebbe7bb3",
        "IPY_MODEL_48321cde49ca421ab65d0d5e038d6de1"
       ],
       "layout": "IPY_MODEL_eab4a2e3b1904352ba73470c3cb5c904"
      }
     },
     "6edafd7607434f81aba17a9b7bcda90d": {
      "model_module": "@jupyter-widgets/controls",
      "model_module_version": "1.5.0",
      "model_name": "DescriptionStyleModel",
      "state": {
       "_model_module": "@jupyter-widgets/controls",
       "_model_module_version": "1.5.0",
       "_model_name": "DescriptionStyleModel",
       "_view_count": null,
       "_view_module": "@jupyter-widgets/base",
       "_view_module_version": "1.2.0",
       "_view_name": "StyleView",
       "description_width": ""
      }
     },
     "71e32f688bd24d4d820c15e5da34139e": {
      "model_module": "@jupyter-widgets/base",
      "model_module_version": "1.2.0",
      "model_name": "LayoutModel",
      "state": {
       "_model_module": "@jupyter-widgets/base",
       "_model_module_version": "1.2.0",
       "_model_name": "LayoutModel",
       "_view_count": null,
       "_view_module": "@jupyter-widgets/base",
       "_view_module_version": "1.2.0",
       "_view_name": "LayoutView",
       "align_content": null,
       "align_items": null,
       "align_self": null,
       "border": null,
       "bottom": null,
       "display": null,
       "flex": null,
       "flex_flow": null,
       "grid_area": null,
       "grid_auto_columns": null,
       "grid_auto_flow": null,
       "grid_auto_rows": null,
       "grid_column": null,
       "grid_gap": null,
       "grid_row": null,
       "grid_template_areas": null,
       "grid_template_columns": null,
       "grid_template_rows": null,
       "height": null,
       "justify_content": null,
       "justify_items": null,
       "left": null,
       "margin": null,
       "max_height": null,
       "max_width": null,
       "min_height": null,
       "min_width": null,
       "object_fit": null,
       "object_position": null,
       "order": null,
       "overflow": null,
       "overflow_x": null,
       "overflow_y": null,
       "padding": null,
       "right": null,
       "top": null,
       "visibility": null,
       "width": null
      }
     },
     "85196f0fb30d4196bc53989e8c4d5130": {
      "model_module": "@jupyter-widgets/base",
      "model_module_version": "1.2.0",
      "model_name": "LayoutModel",
      "state": {
       "_model_module": "@jupyter-widgets/base",
       "_model_module_version": "1.2.0",
       "_model_name": "LayoutModel",
       "_view_count": null,
       "_view_module": "@jupyter-widgets/base",
       "_view_module_version": "1.2.0",
       "_view_name": "LayoutView",
       "align_content": null,
       "align_items": null,
       "align_self": null,
       "border": null,
       "bottom": null,
       "display": null,
       "flex": null,
       "flex_flow": null,
       "grid_area": null,
       "grid_auto_columns": null,
       "grid_auto_flow": null,
       "grid_auto_rows": null,
       "grid_column": null,
       "grid_gap": null,
       "grid_row": null,
       "grid_template_areas": null,
       "grid_template_columns": null,
       "grid_template_rows": null,
       "height": null,
       "justify_content": null,
       "justify_items": null,
       "left": null,
       "margin": null,
       "max_height": null,
       "max_width": null,
       "min_height": null,
       "min_width": null,
       "object_fit": null,
       "object_position": null,
       "order": null,
       "overflow": null,
       "overflow_x": null,
       "overflow_y": null,
       "padding": null,
       "right": null,
       "top": null,
       "visibility": null,
       "width": null
      }
     },
     "873a9819a4b742d8b7be5d34e75caa5c": {
      "model_module": "@jupyter-widgets/controls",
      "model_module_version": "1.5.0",
      "model_name": "HTMLModel",
      "state": {
       "_dom_classes": [],
       "_model_module": "@jupyter-widgets/controls",
       "_model_module_version": "1.5.0",
       "_model_name": "HTMLModel",
       "_view_count": null,
       "_view_module": "@jupyter-widgets/controls",
       "_view_module_version": "1.5.0",
       "_view_name": "HTMLView",
       "description": "",
       "description_tooltip": null,
       "layout": "IPY_MODEL_158d31c5645b4e33ac8c6b9dc9daf38b",
       "placeholder": "​",
       "style": "IPY_MODEL_08f5785b180344b9ad3e9bc1f381e083",
       "value": " 1.39M/1.39M [00:00&lt;00:00, 16.0MB/s]"
      }
     },
     "983075490cd0452994d862442a18feb9": {
      "model_module": "@jupyter-widgets/base",
      "model_module_version": "1.2.0",
      "model_name": "LayoutModel",
      "state": {
       "_model_module": "@jupyter-widgets/base",
       "_model_module_version": "1.2.0",
       "_model_name": "LayoutModel",
       "_view_count": null,
       "_view_module": "@jupyter-widgets/base",
       "_view_module_version": "1.2.0",
       "_view_name": "LayoutView",
       "align_content": null,
       "align_items": null,
       "align_self": null,
       "border": null,
       "bottom": null,
       "display": null,
       "flex": null,
       "flex_flow": null,
       "grid_area": null,
       "grid_auto_columns": null,
       "grid_auto_flow": null,
       "grid_auto_rows": null,
       "grid_column": null,
       "grid_gap": null,
       "grid_row": null,
       "grid_template_areas": null,
       "grid_template_columns": null,
       "grid_template_rows": null,
       "height": null,
       "justify_content": null,
       "justify_items": null,
       "left": null,
       "margin": null,
       "max_height": null,
       "max_width": null,
       "min_height": null,
       "min_width": null,
       "object_fit": null,
       "object_position": null,
       "order": null,
       "overflow": null,
       "overflow_x": null,
       "overflow_y": null,
       "padding": null,
       "right": null,
       "top": null,
       "visibility": null,
       "width": null
      }
     },
     "9a8d7afd8c724029b7ec1fe6bbbe951a": {
      "model_module": "@jupyter-widgets/controls",
      "model_module_version": "1.5.0",
      "model_name": "FloatProgressModel",
      "state": {
       "_dom_classes": [],
       "_model_module": "@jupyter-widgets/controls",
       "_model_module_version": "1.5.0",
       "_model_name": "FloatProgressModel",
       "_view_count": null,
       "_view_module": "@jupyter-widgets/controls",
       "_view_module_version": "1.5.0",
       "_view_name": "ProgressView",
       "bar_style": "success",
       "description": "",
       "description_tooltip": null,
       "layout": "IPY_MODEL_bf5570bb71154fb4b404169837db189a",
       "max": 891646390.0,
       "min": 0.0,
       "orientation": "horizontal",
       "style": "IPY_MODEL_c7cf0f8f532a470bba0e6592d3d6401b",
       "value": 891646390.0
      }
     },
     "9d52136a534a49eca8d6050f59eb0d42": {
      "model_module": "@jupyter-widgets/controls",
      "model_module_version": "1.5.0",
      "model_name": "ProgressStyleModel",
      "state": {
       "_model_module": "@jupyter-widgets/controls",
       "_model_module_version": "1.5.0",
       "_model_name": "ProgressStyleModel",
       "_view_count": null,
       "_view_module": "@jupyter-widgets/base",
       "_view_module_version": "1.2.0",
       "_view_name": "StyleView",
       "bar_color": null,
       "description_width": ""
      }
     },
     "a5e808e67aa8457fb0107506bbdb0306": {
      "model_module": "@jupyter-widgets/controls",
      "model_module_version": "1.5.0",
      "model_name": "HTMLModel",
      "state": {
       "_dom_classes": [],
       "_model_module": "@jupyter-widgets/controls",
       "_model_module_version": "1.5.0",
       "_model_name": "HTMLModel",
       "_view_count": null,
       "_view_module": "@jupyter-widgets/controls",
       "_view_module_version": "1.5.0",
       "_view_name": "HTMLView",
       "description": "",
       "description_tooltip": null,
       "layout": "IPY_MODEL_ad207eff637a4ad0bbc1f27d57261d98",
       "placeholder": "​",
       "style": "IPY_MODEL_ccd76829933e402892ba4e933018f7ca",
       "value": " 792k/792k [00:00&lt;00:00, 12.1MB/s]"
      }
     },
     "aa61a1d99d1a4429a072bd737913f1c0": {
      "model_module": "@jupyter-widgets/controls",
      "model_module_version": "1.5.0",
      "model_name": "DescriptionStyleModel",
      "state": {
       "_model_module": "@jupyter-widgets/controls",
       "_model_module_version": "1.5.0",
       "_model_name": "DescriptionStyleModel",
       "_view_count": null,
       "_view_module": "@jupyter-widgets/base",
       "_view_module_version": "1.2.0",
       "_view_name": "StyleView",
       "description_width": ""
      }
     },
     "ad207eff637a4ad0bbc1f27d57261d98": {
      "model_module": "@jupyter-widgets/base",
      "model_module_version": "1.2.0",
      "model_name": "LayoutModel",
      "state": {
       "_model_module": "@jupyter-widgets/base",
       "_model_module_version": "1.2.0",
       "_model_name": "LayoutModel",
       "_view_count": null,
       "_view_module": "@jupyter-widgets/base",
       "_view_module_version": "1.2.0",
       "_view_name": "LayoutView",
       "align_content": null,
       "align_items": null,
       "align_self": null,
       "border": null,
       "bottom": null,
       "display": null,
       "flex": null,
       "flex_flow": null,
       "grid_area": null,
       "grid_auto_columns": null,
       "grid_auto_flow": null,
       "grid_auto_rows": null,
       "grid_column": null,
       "grid_gap": null,
       "grid_row": null,
       "grid_template_areas": null,
       "grid_template_columns": null,
       "grid_template_rows": null,
       "height": null,
       "justify_content": null,
       "justify_items": null,
       "left": null,
       "margin": null,
       "max_height": null,
       "max_width": null,
       "min_height": null,
       "min_width": null,
       "object_fit": null,
       "object_position": null,
       "order": null,
       "overflow": null,
       "overflow_x": null,
       "overflow_y": null,
       "padding": null,
       "right": null,
       "top": null,
       "visibility": null,
       "width": null
      }
     },
     "b46ee50bdd5c4471b3c31fcde8a5ddb1": {
      "model_module": "@jupyter-widgets/base",
      "model_module_version": "1.2.0",
      "model_name": "LayoutModel",
      "state": {
       "_model_module": "@jupyter-widgets/base",
       "_model_module_version": "1.2.0",
       "_model_name": "LayoutModel",
       "_view_count": null,
       "_view_module": "@jupyter-widgets/base",
       "_view_module_version": "1.2.0",
       "_view_name": "LayoutView",
       "align_content": null,
       "align_items": null,
       "align_self": null,
       "border": null,
       "bottom": null,
       "display": null,
       "flex": null,
       "flex_flow": null,
       "grid_area": null,
       "grid_auto_columns": null,
       "grid_auto_flow": null,
       "grid_auto_rows": null,
       "grid_column": null,
       "grid_gap": null,
       "grid_row": null,
       "grid_template_areas": null,
       "grid_template_columns": null,
       "grid_template_rows": null,
       "height": null,
       "justify_content": null,
       "justify_items": null,
       "left": null,
       "margin": null,
       "max_height": null,
       "max_width": null,
       "min_height": null,
       "min_width": null,
       "object_fit": null,
       "object_position": null,
       "order": null,
       "overflow": null,
       "overflow_x": null,
       "overflow_y": null,
       "padding": null,
       "right": null,
       "top": null,
       "visibility": null,
       "width": null
      }
     },
     "bb063d4b006840e5934f28a39a7bdfc3": {
      "model_module": "@jupyter-widgets/controls",
      "model_module_version": "1.5.0",
      "model_name": "HBoxModel",
      "state": {
       "_dom_classes": [],
       "_model_module": "@jupyter-widgets/controls",
       "_model_module_version": "1.5.0",
       "_model_name": "HBoxModel",
       "_view_count": null,
       "_view_module": "@jupyter-widgets/controls",
       "_view_module_version": "1.5.0",
       "_view_name": "HBoxView",
       "box_style": "",
       "children": [
        "IPY_MODEL_098379e0e0df4cdca4ef9b2346426d88",
        "IPY_MODEL_068a2421c5944f23a05e8a569fbd44f0",
        "IPY_MODEL_873a9819a4b742d8b7be5d34e75caa5c"
       ],
       "layout": "IPY_MODEL_f7b4ef40de5747aaa2f1b030e830964d"
      }
     },
     "bf5570bb71154fb4b404169837db189a": {
      "model_module": "@jupyter-widgets/base",
      "model_module_version": "1.2.0",
      "model_name": "LayoutModel",
      "state": {
       "_model_module": "@jupyter-widgets/base",
       "_model_module_version": "1.2.0",
       "_model_name": "LayoutModel",
       "_view_count": null,
       "_view_module": "@jupyter-widgets/base",
       "_view_module_version": "1.2.0",
       "_view_name": "LayoutView",
       "align_content": null,
       "align_items": null,
       "align_self": null,
       "border": null,
       "bottom": null,
       "display": null,
       "flex": null,
       "flex_flow": null,
       "grid_area": null,
       "grid_auto_columns": null,
       "grid_auto_flow": null,
       "grid_auto_rows": null,
       "grid_column": null,
       "grid_gap": null,
       "grid_row": null,
       "grid_template_areas": null,
       "grid_template_columns": null,
       "grid_template_rows": null,
       "height": null,
       "justify_content": null,
       "justify_items": null,
       "left": null,
       "margin": null,
       "max_height": null,
       "max_width": null,
       "min_height": null,
       "min_width": null,
       "object_fit": null,
       "object_position": null,
       "order": null,
       "overflow": null,
       "overflow_x": null,
       "overflow_y": null,
       "padding": null,
       "right": null,
       "top": null,
       "visibility": null,
       "width": null
      }
     },
     "c2ca2015b72c45f1b35ce90ef5b004a9": {
      "model_module": "@jupyter-widgets/base",
      "model_module_version": "1.2.0",
      "model_name": "LayoutModel",
      "state": {
       "_model_module": "@jupyter-widgets/base",
       "_model_module_version": "1.2.0",
       "_model_name": "LayoutModel",
       "_view_count": null,
       "_view_module": "@jupyter-widgets/base",
       "_view_module_version": "1.2.0",
       "_view_name": "LayoutView",
       "align_content": null,
       "align_items": null,
       "align_self": null,
       "border": null,
       "bottom": null,
       "display": null,
       "flex": null,
       "flex_flow": null,
       "grid_area": null,
       "grid_auto_columns": null,
       "grid_auto_flow": null,
       "grid_auto_rows": null,
       "grid_column": null,
       "grid_gap": null,
       "grid_row": null,
       "grid_template_areas": null,
       "grid_template_columns": null,
       "grid_template_rows": null,
       "height": null,
       "justify_content": null,
       "justify_items": null,
       "left": null,
       "margin": null,
       "max_height": null,
       "max_width": null,
       "min_height": null,
       "min_width": null,
       "object_fit": null,
       "object_position": null,
       "order": null,
       "overflow": null,
       "overflow_x": null,
       "overflow_y": null,
       "padding": null,
       "right": null,
       "top": null,
       "visibility": null,
       "width": null
      }
     },
     "c7cf0f8f532a470bba0e6592d3d6401b": {
      "model_module": "@jupyter-widgets/controls",
      "model_module_version": "1.5.0",
      "model_name": "ProgressStyleModel",
      "state": {
       "_model_module": "@jupyter-widgets/controls",
       "_model_module_version": "1.5.0",
       "_model_name": "ProgressStyleModel",
       "_view_count": null,
       "_view_module": "@jupyter-widgets/base",
       "_view_module_version": "1.2.0",
       "_view_name": "StyleView",
       "bar_color": null,
       "description_width": ""
      }
     },
     "c81bebc51a5c439f98f303ea650c681d": {
      "model_module": "@jupyter-widgets/controls",
      "model_module_version": "1.5.0",
      "model_name": "ProgressStyleModel",
      "state": {
       "_model_module": "@jupyter-widgets/controls",
       "_model_module_version": "1.5.0",
       "_model_name": "ProgressStyleModel",
       "_view_count": null,
       "_view_module": "@jupyter-widgets/base",
       "_view_module_version": "1.2.0",
       "_view_name": "StyleView",
       "bar_color": null,
       "description_width": ""
      }
     },
     "ccd76829933e402892ba4e933018f7ca": {
      "model_module": "@jupyter-widgets/controls",
      "model_module_version": "1.5.0",
      "model_name": "DescriptionStyleModel",
      "state": {
       "_model_module": "@jupyter-widgets/controls",
       "_model_module_version": "1.5.0",
       "_model_name": "DescriptionStyleModel",
       "_view_count": null,
       "_view_module": "@jupyter-widgets/base",
       "_view_module_version": "1.2.0",
       "_view_name": "StyleView",
       "description_width": ""
      }
     },
     "ce3aff89736e430ab172e52d76aa0a08": {
      "model_module": "@jupyter-widgets/base",
      "model_module_version": "1.2.0",
      "model_name": "LayoutModel",
      "state": {
       "_model_module": "@jupyter-widgets/base",
       "_model_module_version": "1.2.0",
       "_model_name": "LayoutModel",
       "_view_count": null,
       "_view_module": "@jupyter-widgets/base",
       "_view_module_version": "1.2.0",
       "_view_name": "LayoutView",
       "align_content": null,
       "align_items": null,
       "align_self": null,
       "border": null,
       "bottom": null,
       "display": null,
       "flex": null,
       "flex_flow": null,
       "grid_area": null,
       "grid_auto_columns": null,
       "grid_auto_flow": null,
       "grid_auto_rows": null,
       "grid_column": null,
       "grid_gap": null,
       "grid_row": null,
       "grid_template_areas": null,
       "grid_template_columns": null,
       "grid_template_rows": null,
       "height": null,
       "justify_content": null,
       "justify_items": null,
       "left": null,
       "margin": null,
       "max_height": null,
       "max_width": null,
       "min_height": null,
       "min_width": null,
       "object_fit": null,
       "object_position": null,
       "order": null,
       "overflow": null,
       "overflow_x": null,
       "overflow_y": null,
       "padding": null,
       "right": null,
       "top": null,
       "visibility": null,
       "width": null
      }
     },
     "d2b50fb6bdb6462d9b22025228c085a8": {
      "model_module": "@jupyter-widgets/controls",
      "model_module_version": "1.5.0",
      "model_name": "FloatProgressModel",
      "state": {
       "_dom_classes": [],
       "_model_module": "@jupyter-widgets/controls",
       "_model_module_version": "1.5.0",
       "_model_name": "FloatProgressModel",
       "_view_count": null,
       "_view_module": "@jupyter-widgets/controls",
       "_view_module_version": "1.5.0",
       "_view_name": "ProgressView",
       "bar_style": "success",
       "description": "",
       "description_tooltip": null,
       "layout": "IPY_MODEL_e20ad55a85fd42e19232081e6e25b48e",
       "max": 147.0,
       "min": 0.0,
       "orientation": "horizontal",
       "style": "IPY_MODEL_c81bebc51a5c439f98f303ea650c681d",
       "value": 147.0
      }
     },
     "da7e80c1d1de4943aa881fafcf0d7ebf": {
      "model_module": "@jupyter-widgets/controls",
      "model_module_version": "1.5.0",
      "model_name": "ProgressStyleModel",
      "state": {
       "_model_module": "@jupyter-widgets/controls",
       "_model_module_version": "1.5.0",
       "_model_name": "ProgressStyleModel",
       "_view_count": null,
       "_view_module": "@jupyter-widgets/base",
       "_view_module_version": "1.2.0",
       "_view_name": "StyleView",
       "bar_color": null,
       "description_width": ""
      }
     },
     "dae2ad3fc1c044ddbf3016ecd265eafc": {
      "model_module": "@jupyter-widgets/base",
      "model_module_version": "1.2.0",
      "model_name": "LayoutModel",
      "state": {
       "_model_module": "@jupyter-widgets/base",
       "_model_module_version": "1.2.0",
       "_model_name": "LayoutModel",
       "_view_count": null,
       "_view_module": "@jupyter-widgets/base",
       "_view_module_version": "1.2.0",
       "_view_name": "LayoutView",
       "align_content": null,
       "align_items": null,
       "align_self": null,
       "border": null,
       "bottom": null,
       "display": null,
       "flex": null,
       "flex_flow": null,
       "grid_area": null,
       "grid_auto_columns": null,
       "grid_auto_flow": null,
       "grid_auto_rows": null,
       "grid_column": null,
       "grid_gap": null,
       "grid_row": null,
       "grid_template_areas": null,
       "grid_template_columns": null,
       "grid_template_rows": null,
       "height": null,
       "justify_content": null,
       "justify_items": null,
       "left": null,
       "margin": null,
       "max_height": null,
       "max_width": null,
       "min_height": null,
       "min_width": null,
       "object_fit": null,
       "object_position": null,
       "order": null,
       "overflow": null,
       "overflow_x": null,
       "overflow_y": null,
       "padding": null,
       "right": null,
       "top": null,
       "visibility": null,
       "width": null
      }
     },
     "de39bfd297b34551b09a3e95e646ba6c": {
      "model_module": "@jupyter-widgets/base",
      "model_module_version": "1.2.0",
      "model_name": "LayoutModel",
      "state": {
       "_model_module": "@jupyter-widgets/base",
       "_model_module_version": "1.2.0",
       "_model_name": "LayoutModel",
       "_view_count": null,
       "_view_module": "@jupyter-widgets/base",
       "_view_module_version": "1.2.0",
       "_view_name": "LayoutView",
       "align_content": null,
       "align_items": null,
       "align_self": null,
       "border": null,
       "bottom": null,
       "display": null,
       "flex": null,
       "flex_flow": null,
       "grid_area": null,
       "grid_auto_columns": null,
       "grid_auto_flow": null,
       "grid_auto_rows": null,
       "grid_column": null,
       "grid_gap": null,
       "grid_row": null,
       "grid_template_areas": null,
       "grid_template_columns": null,
       "grid_template_rows": null,
       "height": null,
       "justify_content": null,
       "justify_items": null,
       "left": null,
       "margin": null,
       "max_height": null,
       "max_width": null,
       "min_height": null,
       "min_width": null,
       "object_fit": null,
       "object_position": null,
       "order": null,
       "overflow": null,
       "overflow_x": null,
       "overflow_y": null,
       "padding": null,
       "right": null,
       "top": null,
       "visibility": null,
       "width": null
      }
     },
     "e20ad55a85fd42e19232081e6e25b48e": {
      "model_module": "@jupyter-widgets/base",
      "model_module_version": "1.2.0",
      "model_name": "LayoutModel",
      "state": {
       "_model_module": "@jupyter-widgets/base",
       "_model_module_version": "1.2.0",
       "_model_name": "LayoutModel",
       "_view_count": null,
       "_view_module": "@jupyter-widgets/base",
       "_view_module_version": "1.2.0",
       "_view_name": "LayoutView",
       "align_content": null,
       "align_items": null,
       "align_self": null,
       "border": null,
       "bottom": null,
       "display": null,
       "flex": null,
       "flex_flow": null,
       "grid_area": null,
       "grid_auto_columns": null,
       "grid_auto_flow": null,
       "grid_auto_rows": null,
       "grid_column": null,
       "grid_gap": null,
       "grid_row": null,
       "grid_template_areas": null,
       "grid_template_columns": null,
       "grid_template_rows": null,
       "height": null,
       "justify_content": null,
       "justify_items": null,
       "left": null,
       "margin": null,
       "max_height": null,
       "max_width": null,
       "min_height": null,
       "min_width": null,
       "object_fit": null,
       "object_position": null,
       "order": null,
       "overflow": null,
       "overflow_x": null,
       "overflow_y": null,
       "padding": null,
       "right": null,
       "top": null,
       "visibility": null,
       "width": null
      }
     },
     "eab4a2e3b1904352ba73470c3cb5c904": {
      "model_module": "@jupyter-widgets/base",
      "model_module_version": "1.2.0",
      "model_name": "LayoutModel",
      "state": {
       "_model_module": "@jupyter-widgets/base",
       "_model_module_version": "1.2.0",
       "_model_name": "LayoutModel",
       "_view_count": null,
       "_view_module": "@jupyter-widgets/base",
       "_view_module_version": "1.2.0",
       "_view_name": "LayoutView",
       "align_content": null,
       "align_items": null,
       "align_self": null,
       "border": null,
       "bottom": null,
       "display": null,
       "flex": null,
       "flex_flow": null,
       "grid_area": null,
       "grid_auto_columns": null,
       "grid_auto_flow": null,
       "grid_auto_rows": null,
       "grid_column": null,
       "grid_gap": null,
       "grid_row": null,
       "grid_template_areas": null,
       "grid_template_columns": null,
       "grid_template_rows": null,
       "height": null,
       "justify_content": null,
       "justify_items": null,
       "left": null,
       "margin": null,
       "max_height": null,
       "max_width": null,
       "min_height": null,
       "min_width": null,
       "object_fit": null,
       "object_position": null,
       "order": null,
       "overflow": null,
       "overflow_x": null,
       "overflow_y": null,
       "padding": null,
       "right": null,
       "top": null,
       "visibility": null,
       "width": null
      }
     },
     "f65aaac4a9604522a1a31869ffd82e6d": {
      "model_module": "@jupyter-widgets/base",
      "model_module_version": "1.2.0",
      "model_name": "LayoutModel",
      "state": {
       "_model_module": "@jupyter-widgets/base",
       "_model_module_version": "1.2.0",
       "_model_name": "LayoutModel",
       "_view_count": null,
       "_view_module": "@jupyter-widgets/base",
       "_view_module_version": "1.2.0",
       "_view_name": "LayoutView",
       "align_content": null,
       "align_items": null,
       "align_self": null,
       "border": null,
       "bottom": null,
       "display": null,
       "flex": null,
       "flex_flow": null,
       "grid_area": null,
       "grid_auto_columns": null,
       "grid_auto_flow": null,
       "grid_auto_rows": null,
       "grid_column": null,
       "grid_gap": null,
       "grid_row": null,
       "grid_template_areas": null,
       "grid_template_columns": null,
       "grid_template_rows": null,
       "height": null,
       "justify_content": null,
       "justify_items": null,
       "left": null,
       "margin": null,
       "max_height": null,
       "max_width": null,
       "min_height": null,
       "min_width": null,
       "object_fit": null,
       "object_position": null,
       "order": null,
       "overflow": null,
       "overflow_x": null,
       "overflow_y": null,
       "padding": null,
       "right": null,
       "top": null,
       "visibility": null,
       "width": null
      }
     },
     "f7b4ef40de5747aaa2f1b030e830964d": {
      "model_module": "@jupyter-widgets/base",
      "model_module_version": "1.2.0",
      "model_name": "LayoutModel",
      "state": {
       "_model_module": "@jupyter-widgets/base",
       "_model_module_version": "1.2.0",
       "_model_name": "LayoutModel",
       "_view_count": null,
       "_view_module": "@jupyter-widgets/base",
       "_view_module_version": "1.2.0",
       "_view_name": "LayoutView",
       "align_content": null,
       "align_items": null,
       "align_self": null,
       "border": null,
       "bottom": null,
       "display": null,
       "flex": null,
       "flex_flow": null,
       "grid_area": null,
       "grid_auto_columns": null,
       "grid_auto_flow": null,
       "grid_auto_rows": null,
       "grid_column": null,
       "grid_gap": null,
       "grid_row": null,
       "grid_template_areas": null,
       "grid_template_columns": null,
       "grid_template_rows": null,
       "height": null,
       "justify_content": null,
       "justify_items": null,
       "left": null,
       "margin": null,
       "max_height": null,
       "max_width": null,
       "min_height": null,
       "min_width": null,
       "object_fit": null,
       "object_position": null,
       "order": null,
       "overflow": null,
       "overflow_x": null,
       "overflow_y": null,
       "padding": null,
       "right": null,
       "top": null,
       "visibility": null,
       "width": null
      }
     },
     "fed56455a9aa4adba817ce5a07d70b2d": {
      "model_module": "@jupyter-widgets/base",
      "model_module_version": "1.2.0",
      "model_name": "LayoutModel",
      "state": {
       "_model_module": "@jupyter-widgets/base",
       "_model_module_version": "1.2.0",
       "_model_name": "LayoutModel",
       "_view_count": null,
       "_view_module": "@jupyter-widgets/base",
       "_view_module_version": "1.2.0",
       "_view_name": "LayoutView",
       "align_content": null,
       "align_items": null,
       "align_self": null,
       "border": null,
       "bottom": null,
       "display": null,
       "flex": null,
       "flex_flow": null,
       "grid_area": null,
       "grid_auto_columns": null,
       "grid_auto_flow": null,
       "grid_auto_rows": null,
       "grid_column": null,
       "grid_gap": null,
       "grid_row": null,
       "grid_template_areas": null,
       "grid_template_columns": null,
       "grid_template_rows": null,
       "height": null,
       "justify_content": null,
       "justify_items": null,
       "left": null,
       "margin": null,
       "max_height": null,
       "max_width": null,
       "min_height": null,
       "min_width": null,
       "object_fit": null,
       "object_position": null,
       "order": null,
       "overflow": null,
       "overflow_x": null,
       "overflow_y": null,
       "padding": null,
       "right": null,
       "top": null,
       "visibility": null,
       "width": null
      }
     },
     "ff06aee44b854d229fbfaf9b6acd61a7": {
      "model_module": "@jupyter-widgets/controls",
      "model_module_version": "1.5.0",
      "model_name": "DescriptionStyleModel",
      "state": {
       "_model_module": "@jupyter-widgets/controls",
       "_model_module_version": "1.5.0",
       "_model_name": "DescriptionStyleModel",
       "_view_count": null,
       "_view_module": "@jupyter-widgets/base",
       "_view_module_version": "1.2.0",
       "_view_name": "StyleView",
       "description_width": ""
      }
     },
     "ff1b844048c240ff8385f02aa4e0a8f7": {
      "model_module": "@jupyter-widgets/controls",
      "model_module_version": "1.5.0",
      "model_name": "HTMLModel",
      "state": {
       "_dom_classes": [],
       "_model_module": "@jupyter-widgets/controls",
       "_model_module_version": "1.5.0",
       "_model_name": "HTMLModel",
       "_view_count": null,
       "_view_module": "@jupyter-widgets/controls",
       "_view_module_version": "1.5.0",
       "_view_name": "HTMLView",
       "description": "",
       "description_tooltip": null,
       "layout": "IPY_MODEL_ce3aff89736e430ab172e52d76aa0a08",
       "placeholder": "​",
       "style": "IPY_MODEL_4ec502b0817f44bfbcfb2f5db61a02ae",
       "value": " 147/147 [00:00&lt;00:00, 14.2kB/s]"
      }
     },
     "ffd88ad9a6e54209aa86d34ebe7ee1e2": {
      "model_module": "@jupyter-widgets/controls",
      "model_module_version": "1.5.0",
      "model_name": "HBoxModel",
      "state": {
       "_dom_classes": [],
       "_model_module": "@jupyter-widgets/controls",
       "_model_module_version": "1.5.0",
       "_model_name": "HBoxModel",
       "_view_count": null,
       "_view_module": "@jupyter-widgets/controls",
       "_view_module_version": "1.5.0",
       "_view_name": "HBoxView",
       "box_style": "",
       "children": [
        "IPY_MODEL_2246bdc3877c4dc39f7d36c4ce784995",
        "IPY_MODEL_009618c6476a4d99b15bb1eef11c9356",
        "IPY_MODEL_a5e808e67aa8457fb0107506bbdb0306"
       ],
       "layout": "IPY_MODEL_0afad50f9cfd4ab2ae85fb69d175e66e"
      }
     }
    },
    "version_major": 2,
    "version_minor": 0
   }
  }
 },
 "nbformat": 4,
 "nbformat_minor": 5
}
